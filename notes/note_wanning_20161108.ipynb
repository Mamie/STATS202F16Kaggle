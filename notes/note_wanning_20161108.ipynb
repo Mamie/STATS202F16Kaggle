{
 "cells": [
  {
   "cell_type": "code",
   "execution_count": 1,
   "metadata": {
    "collapsed": true
   },
   "outputs": [],
   "source": [
    "train = read.csv('../data/train.csv')\n",
    "test = read.csv('../data/test.csv')"
   ]
  },
  {
   "cell_type": "code",
   "execution_count": 2,
   "metadata": {
    "collapsed": false
   },
   "outputs": [
    {
     "data": {
      "text/plain": [
       "       ID          YearBuilt         SqFt          Story      \n",
       " Min.   : 1.00   Min.   :1909   Min.   : 705   Min.   :1.000  \n",
       " 1st Qu.:23.25   1st Qu.:1966   1st Qu.:1224   1st Qu.:1.000  \n",
       " Median :45.50   Median :1981   Median :1590   Median :1.000  \n",
       " Mean   :45.50   Mean   :1976   Mean   :1747   Mean   :1.361  \n",
       " 3rd Qu.:67.75   3rd Qu.:1987   3rd Qu.:2088   3rd Qu.:1.750  \n",
       " Max.   :90.00   Max.   :2003   Max.   :4650   Max.   :2.500  \n",
       "                                                              \n",
       "     Acres             Baths         Fireplaces          Zip       \n",
       " Min.   : 0.0000   Min.   :1.000   Min.   :0.0000   Min.   :27502  \n",
       " 1st Qu.: 0.2125   1st Qu.:2.000   1st Qu.:0.0000   1st Qu.:27529  \n",
       " Median : 0.3250   Median :2.000   Median :1.0000   Median :27604  \n",
       " Mean   : 0.8513   Mean   :2.022   Mean   :0.7333   Mean   :27576  \n",
       " 3rd Qu.: 0.5450   3rd Qu.:2.500   3rd Qu.:1.0000   3rd Qu.:27610  \n",
       " Max.   :39.3800   Max.   :3.000   Max.   :2.0000   Max.   :27617  \n",
       "                   NA's   :1                                       \n",
       "     Value        \n",
       " Min.   :  32184  \n",
       " 1st Qu.: 126374  \n",
       " Median : 178994  \n",
       " Mean   : 268921  \n",
       " 3rd Qu.: 299524  \n",
       " Max.   :4904102  \n",
       "                  "
      ]
     },
     "metadata": {},
     "output_type": "display_data"
    }
   ],
   "source": [
    "summary(train)"
   ]
  },
  {
   "cell_type": "code",
   "execution_count": null,
   "metadata": {
    "collapsed": true
   },
   "outputs": [],
   "source": []
  }
 ],
 "metadata": {
  "anaconda-cloud": {},
  "kernelspec": {
   "display_name": "R",
   "language": "R",
   "name": "ir"
  },
  "language_info": {
   "codemirror_mode": "r",
   "file_extension": ".r",
   "mimetype": "text/x-r-source",
   "name": "R",
   "pygments_lexer": "r",
   "version": "3.3.1"
  }
 },
 "nbformat": 4,
 "nbformat_minor": 1
}
