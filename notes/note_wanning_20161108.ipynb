{
 "cells": [
  {
   "cell_type": "code",
   "execution_count": 88,
   "metadata": {
    "collapsed": false
   },
   "outputs": [
    {
     "data": {
      "text/html": [
       "<ol class=list-inline>\n",
       "\t<li>90</li>\n",
       "\t<li>8</li>\n",
       "</ol>\n"
      ],
      "text/latex": [
       "\\begin{enumerate*}\n",
       "\\item 90\n",
       "\\item 8\n",
       "\\end{enumerate*}\n"
      ],
      "text/markdown": [
       "1. 90\n",
       "2. 8\n",
       "\n",
       "\n"
      ],
      "text/plain": [
       "[1] 90  8"
      ]
     },
     "metadata": {},
     "output_type": "display_data"
    },
    {
     "data": {
      "text/html": [
       "<ol class=list-inline>\n",
       "\t<li>10</li>\n",
       "\t<li>7</li>\n",
       "</ol>\n"
      ],
      "text/latex": [
       "\\begin{enumerate*}\n",
       "\\item 10\n",
       "\\item 7\n",
       "\\end{enumerate*}\n"
      ],
      "text/markdown": [
       "1. 10\n",
       "2. 7\n",
       "\n",
       "\n"
      ],
      "text/plain": [
       "[1] 10  7"
      ]
     },
     "metadata": {},
     "output_type": "display_data"
    },
    {
     "data": {
      "text/html": [
       "<ol class=list-inline>\n",
       "\t<li>'YearBuilt'</li>\n",
       "\t<li>'SqFt'</li>\n",
       "\t<li>'Story'</li>\n",
       "\t<li>'Acres'</li>\n",
       "\t<li>'Baths'</li>\n",
       "\t<li>'Fireplaces'</li>\n",
       "\t<li>'Zip'</li>\n",
       "</ol>\n"
      ],
      "text/latex": [
       "\\begin{enumerate*}\n",
       "\\item 'YearBuilt'\n",
       "\\item 'SqFt'\n",
       "\\item 'Story'\n",
       "\\item 'Acres'\n",
       "\\item 'Baths'\n",
       "\\item 'Fireplaces'\n",
       "\\item 'Zip'\n",
       "\\end{enumerate*}\n"
      ],
      "text/markdown": [
       "1. 'YearBuilt'\n",
       "2. 'SqFt'\n",
       "3. 'Story'\n",
       "4. 'Acres'\n",
       "5. 'Baths'\n",
       "6. 'Fireplaces'\n",
       "7. 'Zip'\n",
       "\n",
       "\n"
      ],
      "text/plain": [
       "[1] \"YearBuilt\"  \"SqFt\"       \"Story\"      \"Acres\"      \"Baths\"     \n",
       "[6] \"Fireplaces\" \"Zip\"       "
      ]
     },
     "metadata": {},
     "output_type": "display_data"
    }
   ],
   "source": [
    "train = read.csv('../data/train.csv', header = TRUE)[,-1] #exclude the ID\n",
    "test = read.csv('../data/test.csv', header = TRUE)[,-1] #exclude the ID\n",
    "dim(train)\n",
    "dim(test)\n",
    "names(test)[7] = 'Zip'\n",
    "names(test)"
   ]
  },
  {
   "cell_type": "code",
   "execution_count": 81,
   "metadata": {
    "collapsed": false
   },
   "outputs": [
    {
     "data": {
      "text/html": [
       "1"
      ],
      "text/latex": [
       "1"
      ],
      "text/markdown": [
       "1"
      ],
      "text/plain": [
       "[1] 1"
      ]
     },
     "metadata": {},
     "output_type": "display_data"
    }
   ],
   "source": [
    "sum(is.na(train))"
   ]
  },
  {
   "cell_type": "code",
   "execution_count": 84,
   "metadata": {
    "collapsed": false
   },
   "outputs": [],
   "source": [
    "#Substitute the NA value to column mean\n",
    "train$Baths[1] = as.integer(mean(train$Baths[-1]))"
   ]
  },
  {
   "cell_type": "code",
   "execution_count": 90,
   "metadata": {
    "collapsed": false
   },
   "outputs": [
    {
     "data": {
      "text/html": [
       "<dl class=dl-horizontal>\n",
       "\t<dt>1</dt>\n",
       "\t\t<dd>232282.972978141</dd>\n",
       "\t<dt>2</dt>\n",
       "\t\t<dd>361120.245001704</dd>\n",
       "\t<dt>3</dt>\n",
       "\t\t<dd>25812.837248195</dd>\n",
       "\t<dt>4</dt>\n",
       "\t\t<dd>395393.178586498</dd>\n",
       "\t<dt>5</dt>\n",
       "\t\t<dd>77930.9927411526</dd>\n",
       "\t<dt>6</dt>\n",
       "\t\t<dd>100443.845733177</dd>\n",
       "\t<dt>7</dt>\n",
       "\t\t<dd>153043.401795447</dd>\n",
       "\t<dt>8</dt>\n",
       "\t\t<dd>17656.868183054</dd>\n",
       "\t<dt>9</dt>\n",
       "\t\t<dd>157812.465270679</dd>\n",
       "\t<dt>10</dt>\n",
       "\t\t<dd>193129.72277863</dd>\n",
       "</dl>\n"
      ],
      "text/latex": [
       "\\begin{description*}\n",
       "\\item[1] 232282.972978141\n",
       "\\item[2] 361120.245001704\n",
       "\\item[3] 25812.837248195\n",
       "\\item[4] 395393.178586498\n",
       "\\item[5] 77930.9927411526\n",
       "\\item[6] 100443.845733177\n",
       "\\item[7] 153043.401795447\n",
       "\\item[8] 17656.868183054\n",
       "\\item[9] 157812.465270679\n",
       "\\item[10] 193129.72277863\n",
       "\\end{description*}\n"
      ],
      "text/markdown": [
       "1\n",
       ":   232282.9729781412\n",
       ":   361120.2450017043\n",
       ":   25812.8372481954\n",
       ":   395393.1785864985\n",
       ":   77930.99274115266\n",
       ":   100443.8457331777\n",
       ":   153043.4017954478\n",
       ":   17656.8681830549\n",
       ":   157812.46527067910\n",
       ":   193129.72277863\n",
       "\n"
      ],
      "text/plain": [
       "        1         2         3         4         5         6         7         8 \n",
       "232282.97 361120.25  25812.84 395393.18  77930.99 100443.85 153043.40  17656.87 \n",
       "        9        10 \n",
       "157812.47 193129.72 "
      ]
     },
     "metadata": {},
     "output_type": "display_data"
    }
   ],
   "source": [
    "#Multiple Linear Regression\n",
    "#Fit the model on the train set\n",
    "lm.fit = lm(train$Value~., data = train)\n",
    "#summary(lm.fit)\n",
    "#Predict the response on test set\n",
    "lm.pred = predict(lm.fit, test)\n",
    "lm.pred"
   ]
  },
  {
   "cell_type": "code",
   "execution_count": 106,
   "metadata": {
    "collapsed": false
   },
   "outputs": [
    {
     "data": {
      "text/html": [
       "<dl class=dl-horizontal>\n",
       "\t<dt>(Intercept)</dt>\n",
       "\t\t<dd>-11634705.869861</dd>\n",
       "\t<dt>YearBuilt</dt>\n",
       "\t\t<dd>-1723.80750199467</dd>\n",
       "\t<dt>SqFt</dt>\n",
       "\t\t<dd>169.848393451094</dd>\n",
       "\t<dt>Acres</dt>\n",
       "\t\t<dd>123098.146289031</dd>\n",
       "\t<dt>Zip</dt>\n",
       "\t\t<dd>540.654804401226</dd>\n",
       "</dl>\n"
      ],
      "text/latex": [
       "\\begin{description*}\n",
       "\\item[(Intercept)] -11634705.869861\n",
       "\\item[YearBuilt] -1723.80750199467\n",
       "\\item[SqFt] 169.848393451094\n",
       "\\item[Acres] 123098.146289031\n",
       "\\item[Zip] 540.654804401226\n",
       "\\end{description*}\n"
      ],
      "text/markdown": [
       "(Intercept)\n",
       ":   -11634705.869861YearBuilt\n",
       ":   -1723.80750199467SqFt\n",
       ":   169.848393451094Acres\n",
       ":   123098.146289031Zip\n",
       ":   540.654804401226\n",
       "\n"
      ],
      "text/plain": [
       "  (Intercept)     YearBuilt          SqFt         Acres           Zip \n",
       "-1.163471e+07 -1.723808e+03  1.698484e+02  1.230981e+05  5.406548e+02 "
      ]
     },
     "metadata": {},
     "output_type": "display_data"
    },
    {
     "data": {
      "text/html": [
       "<dl class=dl-horizontal>\n",
       "\t<dt>(Intercept)</dt>\n",
       "\t\t<dd>-11634705.869861</dd>\n",
       "\t<dt>YearBuilt</dt>\n",
       "\t\t<dd>-1723.80750199467</dd>\n",
       "\t<dt>SqFt</dt>\n",
       "\t\t<dd>169.848393451094</dd>\n",
       "\t<dt>Acres</dt>\n",
       "\t\t<dd>123098.146289031</dd>\n",
       "\t<dt>Zip</dt>\n",
       "\t\t<dd>540.654804401226</dd>\n",
       "</dl>\n"
      ],
      "text/latex": [
       "\\begin{description*}\n",
       "\\item[(Intercept)] -11634705.869861\n",
       "\\item[YearBuilt] -1723.80750199467\n",
       "\\item[SqFt] 169.848393451094\n",
       "\\item[Acres] 123098.146289031\n",
       "\\item[Zip] 540.654804401226\n",
       "\\end{description*}\n"
      ],
      "text/markdown": [
       "(Intercept)\n",
       ":   -11634705.869861YearBuilt\n",
       ":   -1723.80750199467SqFt\n",
       ":   169.848393451094Acres\n",
       ":   123098.146289031Zip\n",
       ":   540.654804401226\n",
       "\n"
      ],
      "text/plain": [
       "  (Intercept)     YearBuilt          SqFt         Acres           Zip \n",
       "-1.163471e+07 -1.723808e+03  1.698484e+02  1.230981e+05  5.406548e+02 "
      ]
     },
     "metadata": {},
     "output_type": "display_data"
    },
    {
     "data": {
      "text/html": [
       "<dl class=dl-horizontal>\n",
       "\t<dt>(Intercept)</dt>\n",
       "\t\t<dd>-11634705.869861</dd>\n",
       "\t<dt>YearBuilt</dt>\n",
       "\t\t<dd>-1723.80750199467</dd>\n",
       "\t<dt>SqFt</dt>\n",
       "\t\t<dd>169.848393451094</dd>\n",
       "\t<dt>Acres</dt>\n",
       "\t\t<dd>123098.146289031</dd>\n",
       "\t<dt>Zip</dt>\n",
       "\t\t<dd>540.654804401226</dd>\n",
       "</dl>\n"
      ],
      "text/latex": [
       "\\begin{description*}\n",
       "\\item[(Intercept)] -11634705.869861\n",
       "\\item[YearBuilt] -1723.80750199467\n",
       "\\item[SqFt] 169.848393451094\n",
       "\\item[Acres] 123098.146289031\n",
       "\\item[Zip] 540.654804401226\n",
       "\\end{description*}\n"
      ],
      "text/markdown": [
       "(Intercept)\n",
       ":   -11634705.869861YearBuilt\n",
       ":   -1723.80750199467SqFt\n",
       ":   169.848393451094Acres\n",
       ":   123098.146289031Zip\n",
       ":   540.654804401226\n",
       "\n"
      ],
      "text/plain": [
       "  (Intercept)     YearBuilt          SqFt         Acres           Zip \n",
       "-1.163471e+07 -1.723808e+03  1.698484e+02  1.230981e+05  5.406548e+02 "
      ]
     },
     "metadata": {},
     "output_type": "display_data"
    },
    {
     "data": {
      "text/html": [
       "<dl class=dl-horizontal>\n",
       "\t<dt>1</dt>\n",
       "\t\t<dd>230809.350316836</dd>\n",
       "\t<dt>2</dt>\n",
       "\t\t<dd>341759.669410646</dd>\n",
       "\t<dt>3</dt>\n",
       "\t\t<dd>47664.2783033084</dd>\n",
       "\t<dt>4</dt>\n",
       "\t\t<dd>373930.54722728</dd>\n",
       "\t<dt>5</dt>\n",
       "\t\t<dd>67449.508556664</dd>\n",
       "\t<dt>6</dt>\n",
       "\t\t<dd>118907.875613065</dd>\n",
       "\t<dt>7</dt>\n",
       "\t\t<dd>152363.762002213</dd>\n",
       "\t<dt>8</dt>\n",
       "\t\t<dd>28310.4307021443</dd>\n",
       "\t<dt>9</dt>\n",
       "\t\t<dd>139514.650940914</dd>\n",
       "\t<dt>10</dt>\n",
       "\t\t<dd>173977.826665211</dd>\n",
       "</dl>\n"
      ],
      "text/latex": [
       "\\begin{description*}\n",
       "\\item[1] 230809.350316836\n",
       "\\item[2] 341759.669410646\n",
       "\\item[3] 47664.2783033084\n",
       "\\item[4] 373930.54722728\n",
       "\\item[5] 67449.508556664\n",
       "\\item[6] 118907.875613065\n",
       "\\item[7] 152363.762002213\n",
       "\\item[8] 28310.4307021443\n",
       "\\item[9] 139514.650940914\n",
       "\\item[10] 173977.826665211\n",
       "\\end{description*}\n"
      ],
      "text/markdown": [
       "1\n",
       ":   230809.3503168362\n",
       ":   341759.6694106463\n",
       ":   47664.27830330844\n",
       ":   373930.547227285\n",
       ":   67449.5085566646\n",
       ":   118907.8756130657\n",
       ":   152363.7620022138\n",
       ":   28310.43070214439\n",
       ":   139514.65094091410\n",
       ":   173977.826665211\n",
       "\n"
      ],
      "text/plain": [
       "        1         2         3         4         5         6         7         8 \n",
       "230809.35 341759.67  47664.28 373930.55  67449.51 118907.88 152363.76  28310.43 \n",
       "        9        10 \n",
       "139514.65 173977.83 "
      ]
     },
     "metadata": {},
     "output_type": "display_data"
    }
   ],
   "source": [
    "#Perform best subset selection on the training data\n",
    "library(leaps)\n",
    "Value = train$Value\n",
    "regfit = regsubsets(Value~., data = train, nvmax = ncol(train)-1)\n",
    "regfit.summary = summary(best.fit)\n",
    "#Find the fitted model with the lowest Cp, lowest BIC and the highest adjusted R-squared value\n",
    "i.cp = which.min(best.summary$cp)\n",
    "i.bic = which.min(best.summary$bic)\n",
    "i.adjr2 = which.max(best.summary$adjr2)\n",
    "coef(regfit, id=i.cp)\n",
    "coef(regfit, id=i.cp)\n",
    "coef(regfit, id=i.cp)\n",
    "#We use YearBuilt, SqFt, Acres, and Zip to predict the property values on the test set\n",
    "lm.fit = lm(Value~YearBuilt+SqFt+Acres+Zip, data = train)\n",
    "lm.pred = predict(lm.fit, test)\n",
    "lm.pred"
   ]
  },
  {
   "cell_type": "code",
   "execution_count": null,
   "metadata": {
    "collapsed": true
   },
   "outputs": [],
   "source": []
  }
 ],
 "metadata": {
  "anaconda-cloud": {},
  "kernelspec": {
   "display_name": "R",
   "language": "R",
   "name": "ir"
  },
  "language_info": {
   "codemirror_mode": "r",
   "file_extension": ".r",
   "mimetype": "text/x-r-source",
   "name": "R",
   "pygments_lexer": "r",
   "version": "3.3.1"
  }
 },
 "nbformat": 4,
 "nbformat_minor": 1
}
