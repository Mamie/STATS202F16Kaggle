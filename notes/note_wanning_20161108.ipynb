{
 "cells": [
  {
   "cell_type": "code",
   "execution_count": 41,
   "metadata": {
    "collapsed": false
   },
   "outputs": [
    {
     "data": {
      "text/html": [
       "<table>\n",
       "<thead><tr><th></th><th scope=col>ID</th><th scope=col>YearBuilt</th><th scope=col>SqFt</th><th scope=col>Story</th><th scope=col>Acres</th><th scope=col>Baths</th><th scope=col>Fireplaces</th><th scope=col>Zip</th><th scope=col>Value</th></tr></thead>\n",
       "<tbody>\n",
       "\t<tr><th scope=row>1</th><td>     1.00</td><td>  1990.00</td><td>  2102.00</td><td>     1.00</td><td>     0.77</td><td>       NA</td><td>     1.00</td><td> 27603.00</td><td>203200.00</td></tr>\n",
       "\t<tr><th scope=row>2</th><td>     2.00</td><td>  1986.00</td><td>  1740.00</td><td>     1.50</td><td>     0.06</td><td>     3.00</td><td>     1.00</td><td> 27604.00</td><td>119096.00</td></tr>\n",
       "\t<tr><th scope=row>3</th><td>    3.0</td><td> 1955.0</td><td>  795.0</td><td>    1.0</td><td>    0.3</td><td>    1.0</td><td>    0.0</td><td>27610.0</td><td>71666.0</td></tr>\n",
       "\t<tr><th scope=row>4</th><td>     4.00</td><td>  1983.00</td><td>  1152.00</td><td>     1.00</td><td>     0.68</td><td>     2.00</td><td>     0.00</td><td> 27616.00</td><td>131103.00</td></tr>\n",
       "\t<tr><th scope=row>5</th><td>      5.00</td><td>   2003.00</td><td>   1404.00</td><td>      1.00</td><td>     39.38</td><td>      2.00</td><td>      0.00</td><td>  27519.00</td><td>4904102.00</td></tr>\n",
       "\t<tr><th scope=row>6</th><td>     6.00</td><td>  1924.00</td><td>  1829.00</td><td>     1.50</td><td>     0.25</td><td>     3.00</td><td>     1.00</td><td> 27607.00</td><td>496425.00</td></tr>\n",
       "</tbody>\n",
       "</table>\n"
      ],
      "text/latex": [
       "\\begin{tabular}{r|lllllllll}\n",
       "  & ID & YearBuilt & SqFt & Story & Acres & Baths & Fireplaces & Zip & Value\\\\\n",
       "\\hline\n",
       "\t1 &      1.00 &   1990.00 &   2102.00 &      1.00 &      0.77 &        NA &      1.00 &  27603.00 & 203200.00\\\\\n",
       "\t2 &      2.00 &   1986.00 &   1740.00 &      1.50 &      0.06 &      3.00 &      1.00 &  27604.00 & 119096.00\\\\\n",
       "\t3 &     3.0 &  1955.0 &   795.0 &     1.0 &     0.3 &     1.0 &     0.0 & 27610.0 & 71666.0\\\\\n",
       "\t4 &      4.00 &   1983.00 &   1152.00 &      1.00 &      0.68 &      2.00 &      0.00 &  27616.00 & 131103.00\\\\\n",
       "\t5 &       5.00 &    2003.00 &    1404.00 &       1.00 &      39.38 &       2.00 &       0.00 &   27519.00 & 4904102.00\\\\\n",
       "\t6 &      6.00 &   1924.00 &   1829.00 &      1.50 &      0.25 &      3.00 &      1.00 &  27607.00 & 496425.00\\\\\n",
       "\\end{tabular}\n"
      ],
      "text/plain": [
       "  ID YearBuilt SqFt Story Acres Baths Fireplaces   Zip   Value\n",
       "1  1      1990 2102   1.0  0.77    NA          1 27603  203200\n",
       "2  2      1986 1740   1.5  0.06     3          1 27604  119096\n",
       "3  3      1955  795   1.0  0.30     1          0 27610   71666\n",
       "4  4      1983 1152   1.0  0.68     2          0 27616  131103\n",
       "5  5      2003 1404   1.0 39.38     2          0 27519 4904102\n",
       "6  6      1924 1829   1.5  0.25     3          1 27607  496425"
      ]
     },
     "metadata": {},
     "output_type": "display_data"
    },
    {
     "data": {
      "text/html": [
       "<table>\n",
       "<thead><tr><th></th><th scope=col>ID</th><th scope=col>YearBuilt</th><th scope=col>SqFt</th><th scope=col>Story</th><th scope=col>Acres</th><th scope=col>Baths</th><th scope=col>Fireplaces</th><th scope=col>Zip</th></tr></thead>\n",
       "<tbody>\n",
       "\t<tr><th scope=row>1</th><td>    1.00</td><td> 1967.00</td><td> 1752.00</td><td>    1.00</td><td>    0.29</td><td>    1.50</td><td>    1.00</td><td>27604.00</td></tr>\n",
       "\t<tr><th scope=row>2</th><td>    2.00</td><td> 1987.00</td><td> 2678.00</td><td>    1.75</td><td>    0.17</td><td>    3.00</td><td>    1.00</td><td>27613.00</td></tr>\n",
       "\t<tr><th scope=row>3</th><td>    3.00</td><td> 1986.00</td><td> 1024.00</td><td>    2.00</td><td>    0.03</td><td>    1.50</td><td>    0.00</td><td>27616.00</td></tr>\n",
       "\t<tr><th scope=row>4</th><td>    4.00</td><td> 1963.00</td><td> 2340.00</td><td>    1.00</td><td>    0.56</td><td>    2.50</td><td>    1.00</td><td>27610.00</td></tr>\n",
       "\t<tr><th scope=row>5</th><td>    5.00</td><td> 1995.00</td><td> 1104.00</td><td>    1.00</td><td>    0.51</td><td>    2.00</td><td>    1.00</td><td>27545.00</td></tr>\n",
       "\t<tr><th scope=row>6</th><td>    6.00</td><td> 1947.00</td><td>  900.00</td><td>    1.00</td><td>    0.25</td><td>    1.00</td><td>    0.00</td><td>27607.00</td></tr>\n",
       "</tbody>\n",
       "</table>\n"
      ],
      "text/latex": [
       "\\begin{tabular}{r|llllllll}\n",
       "  & ID & YearBuilt & SqFt & Story & Acres & Baths & Fireplaces & Zip\\\\\n",
       "\\hline\n",
       "\t1 &     1.00 &  1967.00 &  1752.00 &     1.00 &     0.29 &     1.50 &     1.00 & 27604.00\\\\\n",
       "\t2 &     2.00 &  1987.00 &  2678.00 &     1.75 &     0.17 &     3.00 &     1.00 & 27613.00\\\\\n",
       "\t3 &     3.00 &  1986.00 &  1024.00 &     2.00 &     0.03 &     1.50 &     0.00 & 27616.00\\\\\n",
       "\t4 &     4.00 &  1963.00 &  2340.00 &     1.00 &     0.56 &     2.50 &     1.00 & 27610.00\\\\\n",
       "\t5 &     5.00 &  1995.00 &  1104.00 &     1.00 &     0.51 &     2.00 &     1.00 & 27545.00\\\\\n",
       "\t6 &     6.00 &  1947.00 &   900.00 &     1.00 &     0.25 &     1.00 &     0.00 & 27607.00\\\\\n",
       "\\end{tabular}\n"
      ],
      "text/plain": [
       "  ID YearBuilt SqFt Story Acres Baths Fireplaces   Zip\n",
       "1  1      1967 1752  1.00  0.29   1.5          1 27604\n",
       "2  2      1987 2678  1.75  0.17   3.0          1 27613\n",
       "3  3      1986 1024  2.00  0.03   1.5          0 27616\n",
       "4  4      1963 2340  1.00  0.56   2.5          1 27610\n",
       "5  5      1995 1104  1.00  0.51   2.0          1 27545\n",
       "6  6      1947  900  1.00  0.25   1.0          0 27607"
      ]
     },
     "metadata": {},
     "output_type": "display_data"
    },
    {
     "data": {
      "text/html": [
       "<ol class=list-inline>\n",
       "\t<li>90</li>\n",
       "\t<li>9</li>\n",
       "</ol>\n"
      ],
      "text/latex": [
       "\\begin{enumerate*}\n",
       "\\item 90\n",
       "\\item 9\n",
       "\\end{enumerate*}\n"
      ],
      "text/markdown": [
       "1. 90\n",
       "2. 9\n",
       "\n",
       "\n"
      ],
      "text/plain": [
       "[1] 90  9"
      ]
     },
     "metadata": {},
     "output_type": "display_data"
    }
   ],
   "source": [
    "data = read.csv('../data/train.csv', header=T)\n",
    "test = read.csv('../data/test.csv', header=T)\n",
    "head(data)\n",
    "names(test)[length(test)]=\"Zip\" # match test col names with train col names\n",
    "head(test)\n",
    "dim(data)"
   ]
  },
  {
   "cell_type": "code",
   "execution_count": 42,
   "metadata": {
    "collapsed": false
   },
   "outputs": [
    {
     "data": {
      "text/html": [
       "<table>\n",
       "<thead><tr><th></th><th scope=col>YearBuilt</th><th scope=col>SqFt</th><th scope=col>Story</th><th scope=col>Acres</th><th scope=col>Baths</th><th scope=col>Fireplaces</th><th scope=col>Value</th></tr></thead>\n",
       "<tbody>\n",
       "\t<tr><th scope=row>1</th><td>  1990.00</td><td>  2102.00</td><td>     1.00</td><td>     0.77</td><td>     2.00</td><td>     1.00</td><td>203200.00</td></tr>\n",
       "\t<tr><th scope=row>2</th><td>  1986.00</td><td>  1740.00</td><td>     1.50</td><td>     0.06</td><td>     3.00</td><td>     1.00</td><td>119096.00</td></tr>\n",
       "\t<tr><th scope=row>3</th><td> 1955.0</td><td>  795.0</td><td>    1.0</td><td>    0.3</td><td>    1.0</td><td>    0.0</td><td>71666.0</td></tr>\n",
       "\t<tr><th scope=row>4</th><td>  1983.00</td><td>  1152.00</td><td>     1.00</td><td>     0.68</td><td>     2.00</td><td>     0.00</td><td>131103.00</td></tr>\n",
       "\t<tr><th scope=row>5</th><td>   2003.00</td><td>   1404.00</td><td>      1.00</td><td>     39.38</td><td>      2.00</td><td>      0.00</td><td>4904102.00</td></tr>\n",
       "\t<tr><th scope=row>6</th><td>  1924.00</td><td>  1829.00</td><td>     1.50</td><td>     0.25</td><td>     3.00</td><td>     1.00</td><td>496425.00</td></tr>\n",
       "</tbody>\n",
       "</table>\n"
      ],
      "text/latex": [
       "\\begin{tabular}{r|lllllll}\n",
       "  & YearBuilt & SqFt & Story & Acres & Baths & Fireplaces & Value\\\\\n",
       "\\hline\n",
       "\t1 &   1990.00 &   2102.00 &      1.00 &      0.77 &      2.00 &      1.00 & 203200.00\\\\\n",
       "\t2 &   1986.00 &   1740.00 &      1.50 &      0.06 &      3.00 &      1.00 & 119096.00\\\\\n",
       "\t3 &  1955.0 &   795.0 &     1.0 &     0.3 &     1.0 &     0.0 & 71666.0\\\\\n",
       "\t4 &   1983.00 &   1152.00 &      1.00 &      0.68 &      2.00 &      0.00 & 131103.00\\\\\n",
       "\t5 &    2003.00 &    1404.00 &       1.00 &      39.38 &       2.00 &       0.00 & 4904102.00\\\\\n",
       "\t6 &   1924.00 &   1829.00 &      1.50 &      0.25 &      3.00 &      1.00 & 496425.00\\\\\n",
       "\\end{tabular}\n"
      ],
      "text/plain": [
       "  YearBuilt SqFt Story Acres Baths Fireplaces   Value\n",
       "1      1990 2102   1.0  0.77     2          1  203200\n",
       "2      1986 1740   1.5  0.06     3          1  119096\n",
       "3      1955  795   1.0  0.30     1          0   71666\n",
       "4      1983 1152   1.0  0.68     2          0  131103\n",
       "5      2003 1404   1.0 39.38     2          0 4904102\n",
       "6      1924 1829   1.5  0.25     3          1  496425"
      ]
     },
     "metadata": {},
     "output_type": "display_data"
    },
    {
     "data": {
      "text/html": [
       "<table>\n",
       "<thead><tr><th></th><th scope=col>YearBuilt</th><th scope=col>SqFt</th><th scope=col>Story</th><th scope=col>Acres</th><th scope=col>Baths</th><th scope=col>Fireplaces</th></tr></thead>\n",
       "<tbody>\n",
       "\t<tr><th scope=row>1</th><td>1967.00</td><td>1752.00</td><td>   1.00</td><td>   0.29</td><td>   1.50</td><td>   1.00</td></tr>\n",
       "\t<tr><th scope=row>2</th><td>1987.00</td><td>2678.00</td><td>   1.75</td><td>   0.17</td><td>   3.00</td><td>   1.00</td></tr>\n",
       "\t<tr><th scope=row>3</th><td>1986.00</td><td>1024.00</td><td>   2.00</td><td>   0.03</td><td>   1.50</td><td>   0.00</td></tr>\n",
       "\t<tr><th scope=row>4</th><td>1963.00</td><td>2340.00</td><td>   1.00</td><td>   0.56</td><td>   2.50</td><td>   1.00</td></tr>\n",
       "\t<tr><th scope=row>5</th><td>1995.00</td><td>1104.00</td><td>   1.00</td><td>   0.51</td><td>   2.00</td><td>   1.00</td></tr>\n",
       "\t<tr><th scope=row>6</th><td>1947.00</td><td> 900.00</td><td>   1.00</td><td>   0.25</td><td>   1.00</td><td>   0.00</td></tr>\n",
       "</tbody>\n",
       "</table>\n"
      ],
      "text/latex": [
       "\\begin{tabular}{r|llllll}\n",
       "  & YearBuilt & SqFt & Story & Acres & Baths & Fireplaces\\\\\n",
       "\\hline\n",
       "\t1 & 1967.00 & 1752.00 &    1.00 &    0.29 &    1.50 &    1.00\\\\\n",
       "\t2 & 1987.00 & 2678.00 &    1.75 &    0.17 &    3.00 &    1.00\\\\\n",
       "\t3 & 1986.00 & 1024.00 &    2.00 &    0.03 &    1.50 &    0.00\\\\\n",
       "\t4 & 1963.00 & 2340.00 &    1.00 &    0.56 &    2.50 &    1.00\\\\\n",
       "\t5 & 1995.00 & 1104.00 &    1.00 &    0.51 &    2.00 &    1.00\\\\\n",
       "\t6 & 1947.00 &  900.00 &    1.00 &    0.25 &    1.00 &    0.00\\\\\n",
       "\\end{tabular}\n"
      ],
      "text/plain": [
       "  YearBuilt SqFt Story Acres Baths Fireplaces\n",
       "1      1967 1752  1.00  0.29   1.5          1\n",
       "2      1987 2678  1.75  0.17   3.0          1\n",
       "3      1986 1024  2.00  0.03   1.5          0\n",
       "4      1963 2340  1.00  0.56   2.5          1\n",
       "5      1995 1104  1.00  0.51   2.0          1\n",
       "6      1947  900  1.00  0.25   1.0          0"
      ]
     },
     "metadata": {},
     "output_type": "display_data"
    }
   ],
   "source": [
    "# impute the NA value in the bath by its average\n",
    "data$Baths[is.na(data$Baths)] = round(mean(data$Baths, na.rm=T),0)\n",
    "data = data[,-1] #exclude ID\n",
    "data = data[, -7] #exclude Zip\n",
    "#data$Zip = as.factor(data$Zip)\n",
    "head(data)\n",
    "test = test[,-1] #exclude ID\n",
    "test = test[, -length(test)] #exclude Zip\n",
    "#test$Zip = as.factor(test$Zip)\n",
    "head(test)"
   ]
  },
  {
   "cell_type": "code",
   "execution_count": 43,
   "metadata": {
    "collapsed": false
   },
   "outputs": [],
   "source": [
    "#Split the data into a training set and a validation set\n",
    "set.seed(1)\n",
    "train = sample(1:nrow(data), round(nrow(data)*3/4, 0))\n",
    "validation = (-train)\n",
    "x = model.matrix(Value~., data = data)[,-1] #create a model matrix that includes all Zip\n",
    "x.train = x[train,] #training set\n",
    "x.validation = x[validation,] #validation set\n",
    "y.train = data[train,]$Value #training response\n",
    "y.validation = data[validation,]$Value #validation response\n",
    "\n",
    "x.test = model.matrix(~., data = data.frame(test))[,-1] #test set for prediction"
   ]
  },
  {
   "cell_type": "code",
   "execution_count": 44,
   "metadata": {
    "collapsed": false
   },
   "outputs": [
    {
     "data": {
      "text/html": [
       "<table>\n",
       "<thead><tr><th></th><th scope=col>YearBuilt</th><th scope=col>SqFt</th><th scope=col>Story</th><th scope=col>Acres</th><th scope=col>Baths</th><th scope=col>Fireplaces</th></tr></thead>\n",
       "<tbody>\n",
       "\t<tr><th scope=row>24</th><td>1961.00</td><td>1620.00</td><td>   1.00</td><td>   0.61</td><td>   2.00</td><td>   1.00</td></tr>\n",
       "\t<tr><th scope=row>34</th><td>1971.0</td><td>1168.0</td><td>   1.0</td><td>   0.2</td><td>   1.5</td><td>   0.0</td></tr>\n",
       "\t<tr><th scope=row>51</th><td>1987.0</td><td>1080.0</td><td>   1.0</td><td>   0.3</td><td>   2.0</td><td>   1.0</td></tr>\n",
       "\t<tr><th scope=row>80</th><td>1981.00</td><td>1764.00</td><td>   1.00</td><td>   0.66</td><td>   2.00</td><td>   1.00</td></tr>\n",
       "\t<tr><th scope=row>18</th><td>1959.00</td><td>1911.00</td><td>   1.00</td><td>   0.28</td><td>   3.00</td><td>   1.00</td></tr>\n",
       "\t<tr><th scope=row>77</th><td>1960.00</td><td>1740.00</td><td>   1.00</td><td>   0.47</td><td>   2.00</td><td>   1.00</td></tr>\n",
       "</tbody>\n",
       "</table>\n"
      ],
      "text/latex": [
       "\\begin{tabular}{r|llllll}\n",
       "  & YearBuilt & SqFt & Story & Acres & Baths & Fireplaces\\\\\n",
       "\\hline\n",
       "\t24 & 1961.00 & 1620.00 &    1.00 &    0.61 &    2.00 &    1.00\\\\\n",
       "\t34 & 1971.0 & 1168.0 &    1.0 &    0.2 &    1.5 &    0.0\\\\\n",
       "\t51 & 1987.0 & 1080.0 &    1.0 &    0.3 &    2.0 &    1.0\\\\\n",
       "\t80 & 1981.00 & 1764.00 &    1.00 &    0.66 &    2.00 &    1.00\\\\\n",
       "\t18 & 1959.00 & 1911.00 &    1.00 &    0.28 &    3.00 &    1.00\\\\\n",
       "\t77 & 1960.00 & 1740.00 &    1.00 &    0.47 &    2.00 &    1.00\\\\\n",
       "\\end{tabular}\n"
      ],
      "text/markdown": [
       "1. 1961\n",
       "2. 1971\n",
       "3. 1987\n",
       "4. 1981\n",
       "5. 1959\n",
       "6. 1960\n",
       "7. 1620\n",
       "8. 1168\n",
       "9. 1080\n",
       "10. 1764\n",
       "11. 1911\n",
       "12. 1740\n",
       "13. 1\n",
       "14. 1\n",
       "15. 1\n",
       "16. 1\n",
       "17. 1\n",
       "18. 1\n",
       "19. 0.61\n",
       "20. 0.2\n",
       "21. 0.3\n",
       "22. 0.66\n",
       "23. 0.28\n",
       "24. 0.47\n",
       "25. 2\n",
       "26. 1.5\n",
       "27. 2\n",
       "28. 2\n",
       "29. 3\n",
       "30. 2\n",
       "31. 1\n",
       "32. 0\n",
       "33. 1\n",
       "34. 1\n",
       "35. 1\n",
       "36. 1\n",
       "\n",
       "\n"
      ],
      "text/plain": [
       "   YearBuilt SqFt Story Acres Baths Fireplaces\n",
       "24      1961 1620     1  0.61   2.0          1\n",
       "34      1971 1168     1  0.20   1.5          0\n",
       "51      1987 1080     1  0.30   2.0          1\n",
       "80      1981 1764     1  0.66   2.0          1\n",
       "18      1959 1911     1  0.28   3.0          1\n",
       "77      1960 1740     1  0.47   2.0          1"
      ]
     },
     "metadata": {},
     "output_type": "display_data"
    },
    {
     "data": {
      "text/html": [
       "<table>\n",
       "<thead><tr><th></th><th scope=col>YearBuilt</th><th scope=col>SqFt</th><th scope=col>Story</th><th scope=col>Acres</th><th scope=col>Baths</th><th scope=col>Fireplaces</th></tr></thead>\n",
       "<tbody>\n",
       "\t<tr><th scope=row>5</th><td>2003.00</td><td>1404.00</td><td>   1.00</td><td>  39.38</td><td>   2.00</td><td>   0.00</td></tr>\n",
       "\t<tr><th scope=row>8</th><td>1989.00</td><td>2264.00</td><td>   2.00</td><td>   0.25</td><td>   2.50</td><td>   1.00</td></tr>\n",
       "\t<tr><th scope=row>16</th><td>1992.00</td><td>1590.00</td><td>   1.50</td><td>   0.17</td><td>   2.50</td><td>   1.00</td></tr>\n",
       "\t<tr><th scope=row>19</th><td>1984.00</td><td>3103.00</td><td>   2.00</td><td>   0.95</td><td>   2.50</td><td>   1.00</td></tr>\n",
       "\t<tr><th scope=row>23</th><td>1988.00</td><td>1178.00</td><td>   1.00</td><td>   0.16</td><td>   2.00</td><td>   1.00</td></tr>\n",
       "\t<tr><th scope=row>27</th><td>1992.00</td><td>1638.00</td><td>   1.75</td><td>   0.25</td><td>   2.50</td><td>   1.00</td></tr>\n",
       "</tbody>\n",
       "</table>\n"
      ],
      "text/latex": [
       "\\begin{tabular}{r|llllll}\n",
       "  & YearBuilt & SqFt & Story & Acres & Baths & Fireplaces\\\\\n",
       "\\hline\n",
       "\t5 & 2003.00 & 1404.00 &    1.00 &   39.38 &    2.00 &    0.00\\\\\n",
       "\t8 & 1989.00 & 2264.00 &    2.00 &    0.25 &    2.50 &    1.00\\\\\n",
       "\t16 & 1992.00 & 1590.00 &    1.50 &    0.17 &    2.50 &    1.00\\\\\n",
       "\t19 & 1984.00 & 3103.00 &    2.00 &    0.95 &    2.50 &    1.00\\\\\n",
       "\t23 & 1988.00 & 1178.00 &    1.00 &    0.16 &    2.00 &    1.00\\\\\n",
       "\t27 & 1992.00 & 1638.00 &    1.75 &    0.25 &    2.50 &    1.00\\\\\n",
       "\\end{tabular}\n"
      ],
      "text/markdown": [
       "1. 2003\n",
       "2. 1989\n",
       "3. 1992\n",
       "4. 1984\n",
       "5. 1988\n",
       "6. 1992\n",
       "7. 1404\n",
       "8. 2264\n",
       "9. 1590\n",
       "10. 3103\n",
       "11. 1178\n",
       "12. 1638\n",
       "13. 1\n",
       "14. 2\n",
       "15. 1.5\n",
       "16. 2\n",
       "17. 1\n",
       "18. 1.75\n",
       "19. 39.38\n",
       "20. 0.25\n",
       "21. 0.17\n",
       "22. 0.95\n",
       "23. 0.16\n",
       "24. 0.25\n",
       "25. 2\n",
       "26. 2.5\n",
       "27. 2.5\n",
       "28. 2.5\n",
       "29. 2\n",
       "30. 2.5\n",
       "31. 0\n",
       "32. 1\n",
       "33. 1\n",
       "34. 1\n",
       "35. 1\n",
       "36. 1\n",
       "\n",
       "\n"
      ],
      "text/plain": [
       "   YearBuilt SqFt Story Acres Baths Fireplaces\n",
       "5       2003 1404  1.00 39.38   2.0          0\n",
       "8       1989 2264  2.00  0.25   2.5          1\n",
       "16      1992 1590  1.50  0.17   2.5          1\n",
       "19      1984 3103  2.00  0.95   2.5          1\n",
       "23      1988 1178  1.00  0.16   2.0          1\n",
       "27      1992 1638  1.75  0.25   2.5          1"
      ]
     },
     "metadata": {},
     "output_type": "display_data"
    },
    {
     "data": {
      "text/html": [
       "<table>\n",
       "<thead><tr><th></th><th scope=col>YearBuilt</th><th scope=col>SqFt</th><th scope=col>Story</th><th scope=col>Acres</th><th scope=col>Baths</th><th scope=col>Fireplaces</th></tr></thead>\n",
       "<tbody>\n",
       "\t<tr><th scope=row>1</th><td>1967.00</td><td>1752.00</td><td>   1.00</td><td>   0.29</td><td>   1.50</td><td>   1.00</td></tr>\n",
       "\t<tr><th scope=row>2</th><td>1987.00</td><td>2678.00</td><td>   1.75</td><td>   0.17</td><td>   3.00</td><td>   1.00</td></tr>\n",
       "\t<tr><th scope=row>3</th><td>1986.00</td><td>1024.00</td><td>   2.00</td><td>   0.03</td><td>   1.50</td><td>   0.00</td></tr>\n",
       "\t<tr><th scope=row>4</th><td>1963.00</td><td>2340.00</td><td>   1.00</td><td>   0.56</td><td>   2.50</td><td>   1.00</td></tr>\n",
       "\t<tr><th scope=row>5</th><td>1995.00</td><td>1104.00</td><td>   1.00</td><td>   0.51</td><td>   2.00</td><td>   1.00</td></tr>\n",
       "\t<tr><th scope=row>6</th><td>1947.00</td><td> 900.00</td><td>   1.00</td><td>   0.25</td><td>   1.00</td><td>   0.00</td></tr>\n",
       "</tbody>\n",
       "</table>\n"
      ],
      "text/latex": [
       "\\begin{tabular}{r|llllll}\n",
       "  & YearBuilt & SqFt & Story & Acres & Baths & Fireplaces\\\\\n",
       "\\hline\n",
       "\t1 & 1967.00 & 1752.00 &    1.00 &    0.29 &    1.50 &    1.00\\\\\n",
       "\t2 & 1987.00 & 2678.00 &    1.75 &    0.17 &    3.00 &    1.00\\\\\n",
       "\t3 & 1986.00 & 1024.00 &    2.00 &    0.03 &    1.50 &    0.00\\\\\n",
       "\t4 & 1963.00 & 2340.00 &    1.00 &    0.56 &    2.50 &    1.00\\\\\n",
       "\t5 & 1995.00 & 1104.00 &    1.00 &    0.51 &    2.00 &    1.00\\\\\n",
       "\t6 & 1947.00 &  900.00 &    1.00 &    0.25 &    1.00 &    0.00\\\\\n",
       "\\end{tabular}\n"
      ],
      "text/markdown": [
       "1. 1967\n",
       "2. 1987\n",
       "3. 1986\n",
       "4. 1963\n",
       "5. 1995\n",
       "6. 1947\n",
       "7. 1752\n",
       "8. 2678\n",
       "9. 1024\n",
       "10. 2340\n",
       "11. 1104\n",
       "12. 900\n",
       "13. 1\n",
       "14. 1.75\n",
       "15. 2\n",
       "16. 1\n",
       "17. 1\n",
       "18. 1\n",
       "19. 0.29\n",
       "20. 0.17\n",
       "21. 0.03\n",
       "22. 0.56\n",
       "23. 0.51\n",
       "24. 0.25\n",
       "25. 1.5\n",
       "26. 3\n",
       "27. 1.5\n",
       "28. 2.5\n",
       "29. 2\n",
       "30. 1\n",
       "31. 1\n",
       "32. 1\n",
       "33. 0\n",
       "34. 1\n",
       "35. 1\n",
       "36. 0\n",
       "\n",
       "\n"
      ],
      "text/plain": [
       "  YearBuilt SqFt Story Acres Baths Fireplaces\n",
       "1      1967 1752  1.00  0.29   1.5          1\n",
       "2      1987 2678  1.75  0.17   3.0          1\n",
       "3      1986 1024  2.00  0.03   1.5          0\n",
       "4      1963 2340  1.00  0.56   2.5          1\n",
       "5      1995 1104  1.00  0.51   2.0          1\n",
       "6      1947  900  1.00  0.25   1.0          0"
      ]
     },
     "metadata": {},
     "output_type": "display_data"
    }
   ],
   "source": [
    "head(x.train)\n",
    "head(x.validation)\n",
    "head(x.test)"
   ]
  },
  {
   "cell_type": "code",
   "execution_count": 45,
   "metadata": {
    "collapsed": false,
    "scrolled": false
   },
   "outputs": [
    {
     "data": {
      "text/plain": [
       "\n",
       "Call:\n",
       "lm(formula = y.train ~ ., data = data.frame(x.train))\n",
       "\n",
       "Residuals:\n",
       "    Min      1Q  Median      3Q     Max \n",
       "-220613  -48544    -827   46743  382919 \n",
       "\n",
       "Coefficients:\n",
       "              Estimate Std. Error t value Pr(>|t|)    \n",
       "(Intercept) 3958065.49 1510086.64   2.621   0.0110 *  \n",
       "YearBuilt     -2063.86     779.80  -2.647   0.0103 *  \n",
       "SqFt            184.00      20.65   8.909 1.22e-12 ***\n",
       "Story         -7901.89   30740.30  -0.257   0.7980    \n",
       "Acres         -5878.68   36939.71  -0.159   0.8741    \n",
       "Baths          7183.57   26944.45   0.267   0.7907    \n",
       "Fireplaces    15380.26   28662.65   0.537   0.5935    \n",
       "---\n",
       "Signif. codes:  0 ‘***’ 0.001 ‘**’ 0.01 ‘*’ 0.05 ‘.’ 0.1 ‘ ’ 1\n",
       "\n",
       "Residual standard error: 93240 on 61 degrees of freedom\n",
       "Multiple R-squared:  0.6994,\tAdjusted R-squared:  0.6698 \n",
       "F-statistic: 23.65 on 6 and 61 DF,  p-value: 3.087e-14\n"
      ]
     },
     "metadata": {},
     "output_type": "display_data"
    },
    {
     "data": {
      "text/html": [
       "1159481187801.38"
      ],
      "text/latex": [
       "1159481187801.38"
      ],
      "text/markdown": [
       "1159481187801.38"
      ],
      "text/plain": [
       "[1] 1.159481e+12"
      ]
     },
     "metadata": {},
     "output_type": "display_data"
    },
    {
     "data": {
      "text/html": [
       "<dl class=dl-horizontal>\n",
       "\t<dt>1</dt>\n",
       "\t\t<dd>237369.764730225</dd>\n",
       "\t<dt>2</dt>\n",
       "\t\t<dd>372026.450768368</dd>\n",
       "\t<dt>3</dt>\n",
       "\t\t<dd>42454.4017331967</dd>\n",
       "\t<dt>4</dt>\n",
       "\t\t<dd>359410.605937865</dd>\n",
       "\t<dt>5</dt>\n",
       "\t\t<dd>62651.4794995934</dd>\n",
       "\t<dt>6</dt>\n",
       "\t\t<dd>103146.183466573</dd>\n",
       "\t<dt>7</dt>\n",
       "\t\t<dd>215220.731303691</dd>\n",
       "\t<dt>8</dt>\n",
       "\t\t<dd>61017.9729683178</dd>\n",
       "\t<dt>9</dt>\n",
       "\t\t<dd>165868.558545994</dd>\n",
       "\t<dt>10</dt>\n",
       "\t\t<dd>180051.546557324</dd>\n",
       "</dl>\n"
      ],
      "text/latex": [
       "\\begin{description*}\n",
       "\\item[1] 237369.764730225\n",
       "\\item[2] 372026.450768368\n",
       "\\item[3] 42454.4017331967\n",
       "\\item[4] 359410.605937865\n",
       "\\item[5] 62651.4794995934\n",
       "\\item[6] 103146.183466573\n",
       "\\item[7] 215220.731303691\n",
       "\\item[8] 61017.9729683178\n",
       "\\item[9] 165868.558545994\n",
       "\\item[10] 180051.546557324\n",
       "\\end{description*}\n"
      ],
      "text/markdown": [
       "1\n",
       ":   237369.7647302252\n",
       ":   372026.4507683683\n",
       ":   42454.40173319674\n",
       ":   359410.6059378655\n",
       ":   62651.47949959346\n",
       ":   103146.1834665737\n",
       ":   215220.7313036918\n",
       ":   61017.97296831789\n",
       ":   165868.55854599410\n",
       ":   180051.546557324\n",
       "\n"
      ],
      "text/plain": [
       "        1         2         3         4         5         6         7         8 \n",
       "237369.76 372026.45  42454.40 359410.61  62651.48 103146.18 215220.73  61017.97 \n",
       "        9        10 \n",
       "165868.56 180051.55 "
      ]
     },
     "metadata": {},
     "output_type": "display_data"
    }
   ],
   "source": [
    "#Multiple Linear Regression\n",
    "#Fit the model on the training set\n",
    "lm.fit = lm(y.train~., data = data.frame(x.train))\n",
    "summary(lm.fit)\n",
    "#Predict the response on the validation set\n",
    "lm.val = predict(lm.fit, data.frame(x.validation))\n",
    "#Compute the validation MSE\n",
    "val.MSE = mean((lm.val - y.validation)^2)\n",
    "val.MSE\n",
    "#Predict the property value using the test data\n",
    "lm.pred = predict(lm.fit, data.frame(x.test))\n",
    "lm.pred"
   ]
  },
  {
   "cell_type": "code",
   "execution_count": 46,
   "metadata": {
    "collapsed": false
   },
   "outputs": [
    {
     "data": {
      "text/html": [
       "<dl class=dl-horizontal>\n",
       "\t<dt>(Intercept)</dt>\n",
       "\t\t<dd>3896267.31689924</dd>\n",
       "\t<dt>YearBuilt</dt>\n",
       "\t\t<dd>-2031.5649722514</dd>\n",
       "\t<dt>SqFt</dt>\n",
       "\t\t<dd>189.368017004789</dd>\n",
       "</dl>\n"
      ],
      "text/latex": [
       "\\begin{description*}\n",
       "\\item[(Intercept)] 3896267.31689924\n",
       "\\item[YearBuilt] -2031.5649722514\n",
       "\\item[SqFt] 189.368017004789\n",
       "\\end{description*}\n"
      ],
      "text/markdown": [
       "(Intercept)\n",
       ":   3896267.31689924YearBuilt\n",
       ":   -2031.5649722514SqFt\n",
       ":   189.368017004789\n",
       "\n"
      ],
      "text/plain": [
       "(Intercept)   YearBuilt        SqFt \n",
       "3896267.317   -2031.565     189.368 "
      ]
     },
     "metadata": {},
     "output_type": "display_data"
    },
    {
     "data": {
      "text/html": [
       "<dl class=dl-horizontal>\n",
       "\t<dt>(Intercept)</dt>\n",
       "\t\t<dd>3896267.31689924</dd>\n",
       "\t<dt>YearBuilt</dt>\n",
       "\t\t<dd>-2031.5649722514</dd>\n",
       "\t<dt>SqFt</dt>\n",
       "\t\t<dd>189.368017004789</dd>\n",
       "</dl>\n"
      ],
      "text/latex": [
       "\\begin{description*}\n",
       "\\item[(Intercept)] 3896267.31689924\n",
       "\\item[YearBuilt] -2031.5649722514\n",
       "\\item[SqFt] 189.368017004789\n",
       "\\end{description*}\n"
      ],
      "text/markdown": [
       "(Intercept)\n",
       ":   3896267.31689924YearBuilt\n",
       ":   -2031.5649722514SqFt\n",
       ":   189.368017004789\n",
       "\n"
      ],
      "text/plain": [
       "(Intercept)   YearBuilt        SqFt \n",
       "3896267.317   -2031.565     189.368 "
      ]
     },
     "metadata": {},
     "output_type": "display_data"
    },
    {
     "data": {
      "text/html": [
       "<dl class=dl-horizontal>\n",
       "\t<dt>(Intercept)</dt>\n",
       "\t\t<dd>3896267.31689924</dd>\n",
       "\t<dt>YearBuilt</dt>\n",
       "\t\t<dd>-2031.5649722514</dd>\n",
       "\t<dt>SqFt</dt>\n",
       "\t\t<dd>189.368017004789</dd>\n",
       "</dl>\n"
      ],
      "text/latex": [
       "\\begin{description*}\n",
       "\\item[(Intercept)] 3896267.31689924\n",
       "\\item[YearBuilt] -2031.5649722514\n",
       "\\item[SqFt] 189.368017004789\n",
       "\\end{description*}\n"
      ],
      "text/markdown": [
       "(Intercept)\n",
       ":   3896267.31689924YearBuilt\n",
       ":   -2031.5649722514SqFt\n",
       ":   189.368017004789\n",
       "\n"
      ],
      "text/plain": [
       "(Intercept)   YearBuilt        SqFt \n",
       "3896267.317   -2031.565     189.368 "
      ]
     },
     "metadata": {},
     "output_type": "display_data"
    },
    {
     "data": {
      "text/plain": [
       "\n",
       "Call:\n",
       "lm(formula = y.train ~ YearBuilt + SqFt, data = data.frame(x.train))\n",
       "\n",
       "Residuals:\n",
       "    Min      1Q  Median      3Q     Max \n",
       "-212861  -48604   -5114   41354  377704 \n",
       "\n",
       "Coefficients:\n",
       "              Estimate Std. Error t value Pr(>|t|)    \n",
       "(Intercept) 3896267.32 1327452.40   2.935  0.00460 ** \n",
       "YearBuilt     -2031.56     678.06  -2.996  0.00387 ** \n",
       "SqFt            189.37      15.74  12.033  < 2e-16 ***\n",
       "---\n",
       "Signif. codes:  0 ‘***’ 0.001 ‘**’ 0.01 ‘*’ 0.05 ‘.’ 0.1 ‘ ’ 1\n",
       "\n",
       "Residual standard error: 90780 on 65 degrees of freedom\n",
       "Multiple R-squared:  0.6964,\tAdjusted R-squared:  0.687 \n",
       "F-statistic: 74.54 on 2 and 65 DF,  p-value: < 2.2e-16\n"
      ]
     },
     "metadata": {},
     "output_type": "display_data"
    },
    {
     "data": {
      "text/html": [
       "1054170246076.24"
      ],
      "text/latex": [
       "1054170246076.24"
      ],
      "text/markdown": [
       "1054170246076.24"
      ],
      "text/plain": [
       "[1] 1.05417e+12"
      ]
     },
     "metadata": {},
     "output_type": "display_data"
    },
    {
     "data": {
      "text/html": [
       "<dl class=dl-horizontal>\n",
       "\t<dt>1</dt>\n",
       "\t\t<dd>231951.782273119</dd>\n",
       "\t<dt>2</dt>\n",
       "\t\t<dd>366675.266574526</dd>\n",
       "\t<dt>3</dt>\n",
       "\t\t<dd>55492.131420856</dd>\n",
       "\t<dt>4</dt>\n",
       "\t\t<dd>351426.436160941</dd>\n",
       "\t<dt>5</dt>\n",
       "\t\t<dd>52357.4880309766</dd>\n",
       "\t<dt>6</dt>\n",
       "\t\t<dd>111241.531230066</dd>\n",
       "\t<dt>7</dt>\n",
       "\t\t<dd>211358.574257998</dd>\n",
       "\t<dt>8</dt>\n",
       "\t\t<dd>63583.4729372604</dd>\n",
       "\t<dt>9</dt>\n",
       "\t\t<dd>159162.838309878</dd>\n",
       "\t<dt>10</dt>\n",
       "\t\t<dd>169081.600627529</dd>\n",
       "</dl>\n"
      ],
      "text/latex": [
       "\\begin{description*}\n",
       "\\item[1] 231951.782273119\n",
       "\\item[2] 366675.266574526\n",
       "\\item[3] 55492.131420856\n",
       "\\item[4] 351426.436160941\n",
       "\\item[5] 52357.4880309766\n",
       "\\item[6] 111241.531230066\n",
       "\\item[7] 211358.574257998\n",
       "\\item[8] 63583.4729372604\n",
       "\\item[9] 159162.838309878\n",
       "\\item[10] 169081.600627529\n",
       "\\end{description*}\n"
      ],
      "text/markdown": [
       "1\n",
       ":   231951.7822731192\n",
       ":   366675.2665745263\n",
       ":   55492.1314208564\n",
       ":   351426.4361609415\n",
       ":   52357.48803097666\n",
       ":   111241.5312300667\n",
       ":   211358.5742579988\n",
       ":   63583.47293726049\n",
       ":   159162.83830987810\n",
       ":   169081.600627529\n",
       "\n"
      ],
      "text/plain": [
       "        1         2         3         4         5         6         7         8 \n",
       "231951.78 366675.27  55492.13 351426.44  52357.49 111241.53 211358.57  63583.47 \n",
       "        9        10 \n",
       "159162.84 169081.60 "
      ]
     },
     "metadata": {},
     "output_type": "display_data"
    }
   ],
   "source": [
    "#Perform best subset selection on the training data\n",
    "library(leaps)\n",
    "regfit = regsubsets(y.train~., data = data.frame(x.train), nvmax = ncol(x.train)-1)\n",
    "regfit.summary = summary(regfit)\n",
    "#Find the fitted model with the lowest Cp, lowest BIC and the highest adjusted R-squared value\n",
    "i.cp = which.min(regfit.summary$cp)\n",
    "i.bic = which.min(regfit.summary$bic)\n",
    "i.adjr2 = which.max(regfit.summary$adjr2)\n",
    "coef(regfit, id=i.cp)\n",
    "coef(regfit, id=i.cp)\n",
    "coef(regfit, id=i.cp)\n",
    "#Use YearBuilt and SqFt to fit the model on the training set\n",
    "lm.fit = lm(y.train~YearBuilt+SqFt, data = data.frame(x.train))\n",
    "summary(lm.fit)\n",
    "#Predict on validation set\n",
    "lm.val = predict(lm.fit, data.frame(x.validation))\n",
    "#Use the fitted model to compute validation set MSE\n",
    "val.MSE = mean((lm.val - y.validation)^2)\n",
    "val.MSE\n",
    "#Predict Value on test set\n",
    "lm.pred = predict(lm.fit, data.frame(x.test))\n",
    "lm.pred"
   ]
  },
  {
   "cell_type": "markdown",
   "metadata": {
    "collapsed": true
   },
   "source": [
    "#The features selected by best subset selection is consistent with the summary of multiple linear regression, where only YearBuilt and SqFt have statistically significant impacts on predicting property values. "
   ]
  },
  {
   "cell_type": "code",
   "execution_count": null,
   "metadata": {
    "collapsed": true
   },
   "outputs": [],
   "source": []
  }
 ],
 "metadata": {
  "anaconda-cloud": {},
  "kernelspec": {
   "display_name": "R",
   "language": "R",
   "name": "ir"
  },
  "language_info": {
   "codemirror_mode": "r",
   "file_extension": ".r",
   "mimetype": "text/x-r-source",
   "name": "R",
   "pygments_lexer": "r",
   "version": "3.3.1"
  }
 },
 "nbformat": 4,
 "nbformat_minor": 1
}
