{
 "cells": [
  {
   "cell_type": "code",
   "execution_count": 29,
   "metadata": {
    "collapsed": false
   },
   "outputs": [
    {
     "data": {
      "text/html": [
       "<table>\n",
       "<thead><tr><th></th><th scope=col>ID</th><th scope=col>YearBuilt</th><th scope=col>SqFt</th><th scope=col>Story</th><th scope=col>Acres</th><th scope=col>Baths</th><th scope=col>Fireplaces</th><th scope=col>Zip</th><th scope=col>Value</th></tr></thead>\n",
       "<tbody>\n",
       "\t<tr><th scope=row>1</th><td>     1.00</td><td>  1990.00</td><td>  2102.00</td><td>     1.00</td><td>     0.77</td><td>       NA</td><td>     1.00</td><td> 27603.00</td><td>203200.00</td></tr>\n",
       "\t<tr><th scope=row>2</th><td>     2.00</td><td>  1986.00</td><td>  1740.00</td><td>     1.50</td><td>     0.06</td><td>     3.00</td><td>     1.00</td><td> 27604.00</td><td>119096.00</td></tr>\n",
       "\t<tr><th scope=row>3</th><td>    3.0</td><td> 1955.0</td><td>  795.0</td><td>    1.0</td><td>    0.3</td><td>    1.0</td><td>    0.0</td><td>27610.0</td><td>71666.0</td></tr>\n",
       "\t<tr><th scope=row>4</th><td>     4.00</td><td>  1983.00</td><td>  1152.00</td><td>     1.00</td><td>     0.68</td><td>     2.00</td><td>     0.00</td><td> 27616.00</td><td>131103.00</td></tr>\n",
       "\t<tr><th scope=row>5</th><td>      5.00</td><td>   2003.00</td><td>   1404.00</td><td>      1.00</td><td>     39.38</td><td>      2.00</td><td>      0.00</td><td>  27519.00</td><td>4904102.00</td></tr>\n",
       "\t<tr><th scope=row>6</th><td>     6.00</td><td>  1924.00</td><td>  1829.00</td><td>     1.50</td><td>     0.25</td><td>     3.00</td><td>     1.00</td><td> 27607.00</td><td>496425.00</td></tr>\n",
       "</tbody>\n",
       "</table>\n"
      ],
      "text/latex": [
       "\\begin{tabular}{r|lllllllll}\n",
       "  & ID & YearBuilt & SqFt & Story & Acres & Baths & Fireplaces & Zip & Value\\\\\n",
       "\\hline\n",
       "\t1 &      1.00 &   1990.00 &   2102.00 &      1.00 &      0.77 &        NA &      1.00 &  27603.00 & 203200.00\\\\\n",
       "\t2 &      2.00 &   1986.00 &   1740.00 &      1.50 &      0.06 &      3.00 &      1.00 &  27604.00 & 119096.00\\\\\n",
       "\t3 &     3.0 &  1955.0 &   795.0 &     1.0 &     0.3 &     1.0 &     0.0 & 27610.0 & 71666.0\\\\\n",
       "\t4 &      4.00 &   1983.00 &   1152.00 &      1.00 &      0.68 &      2.00 &      0.00 &  27616.00 & 131103.00\\\\\n",
       "\t5 &       5.00 &    2003.00 &    1404.00 &       1.00 &      39.38 &       2.00 &       0.00 &   27519.00 & 4904102.00\\\\\n",
       "\t6 &      6.00 &   1924.00 &   1829.00 &      1.50 &      0.25 &      3.00 &      1.00 &  27607.00 & 496425.00\\\\\n",
       "\\end{tabular}\n"
      ],
      "text/plain": [
       "  ID YearBuilt SqFt Story Acres Baths Fireplaces   Zip   Value\n",
       "1  1      1990 2102   1.0  0.77    NA          1 27603  203200\n",
       "2  2      1986 1740   1.5  0.06     3          1 27604  119096\n",
       "3  3      1955  795   1.0  0.30     1          0 27610   71666\n",
       "4  4      1983 1152   1.0  0.68     2          0 27616  131103\n",
       "5  5      2003 1404   1.0 39.38     2          0 27519 4904102\n",
       "6  6      1924 1829   1.5  0.25     3          1 27607  496425"
      ]
     },
     "metadata": {},
     "output_type": "display_data"
    },
    {
     "data": {
      "text/plain": [
       "       ID          YearBuilt         SqFt          Story           Acres       \n",
       " Min.   : 1.00   Min.   :1947   Min.   : 900   Min.   :1.000   Min.   :0.0300  \n",
       " 1st Qu.: 3.25   1st Qu.:1967   1st Qu.:1068   1st Qu.:1.000   1st Qu.:0.1725  \n",
       " Median : 5.50   Median :1984   Median :1485   Median :1.000   Median :0.2150  \n",
       " Mean   : 5.50   Mean   :1977   Mean   :1571   Mean   :1.375   Mean   :0.2470  \n",
       " 3rd Qu.: 7.75   3rd Qu.:1987   3rd Qu.:1856   3rd Qu.:1.938   3rd Qu.:0.2825  \n",
       " Max.   :10.00   Max.   :1995   Max.   :2678   Max.   :2.000   Max.   :0.5600  \n",
       "     Baths         Fireplaces        ZIP       \n",
       " Min.   :1.000   Min.   :0.00   Min.   :27513  \n",
       " 1st Qu.:1.625   1st Qu.:0.25   1st Qu.:27560  \n",
       " Median :2.000   Median :1.00   Median :27608  \n",
       " Mean   :2.050   Mean   :0.70   Mean   :27586  \n",
       " 3rd Qu.:2.500   3rd Qu.:1.00   3rd Qu.:27612  \n",
       " Max.   :3.000   Max.   :1.00   Max.   :27616  "
      ]
     },
     "metadata": {},
     "output_type": "display_data"
    },
    {
     "data": {
      "text/html": [
       "<ol class=list-inline>\n",
       "\t<li>90</li>\n",
       "\t<li>9</li>\n",
       "</ol>\n"
      ],
      "text/latex": [
       "\\begin{enumerate*}\n",
       "\\item 90\n",
       "\\item 9\n",
       "\\end{enumerate*}\n"
      ],
      "text/markdown": [
       "1. 90\n",
       "2. 9\n",
       "\n",
       "\n"
      ],
      "text/plain": [
       "[1] 90  9"
      ]
     },
     "metadata": {},
     "output_type": "display_data"
    }
   ],
   "source": [
    "data = read.csv('../data/train.csv', header=T)\n",
    "testInput = read.csv('../data/test.csv', header=T)\n",
    "head(data)\n",
    "summary(testInput)\n",
    "dim(data)"
   ]
  },
  {
   "cell_type": "code",
   "execution_count": 31,
   "metadata": {
    "collapsed": false
   },
   "outputs": [
    {
     "data": {
      "text/html": [
       "<table>\n",
       "<thead><tr><th></th><th scope=col>SqFt</th><th scope=col>Story</th><th scope=col>Acres</th><th scope=col>Baths</th><th scope=col>Fireplaces</th><th scope=col>Zip</th><th scope=col>Value</th></tr></thead>\n",
       "<tbody>\n",
       "\t<tr><th scope=row>1</th><td>2102  </td><td>1     </td><td>0.77  </td><td>2     </td><td>1     </td><td>27603 </td><td>203200</td></tr>\n",
       "\t<tr><th scope=row>2</th><td>1740  </td><td>1.5   </td><td>0.06  </td><td>3     </td><td>1     </td><td>27604 </td><td>119096</td></tr>\n",
       "\t<tr><th scope=row>3</th><td>795  </td><td>1    </td><td>0.3  </td><td>1    </td><td>0    </td><td>27610</td><td>71666</td></tr>\n",
       "\t<tr><th scope=row>4</th><td>1152  </td><td>1     </td><td>0.68  </td><td>2     </td><td>0     </td><td>27616 </td><td>131103</td></tr>\n",
       "\t<tr><th scope=row>5</th><td>1404   </td><td>1      </td><td>39.38  </td><td>2      </td><td>0      </td><td>27519  </td><td>4904102</td></tr>\n",
       "\t<tr><th scope=row>6</th><td>1829  </td><td>1.5   </td><td>0.25  </td><td>3     </td><td>1     </td><td>27607 </td><td>496425</td></tr>\n",
       "</tbody>\n",
       "</table>\n"
      ],
      "text/latex": [
       "\\begin{tabular}{r|lllllll}\n",
       "  & SqFt & Story & Acres & Baths & Fireplaces & Zip & Value\\\\\n",
       "\\hline\n",
       "\t1 & 2102   & 1      & 0.77   & 2      & 1      & 27603  & 203200\\\\\n",
       "\t2 & 1740   & 1.5    & 0.06   & 3      & 1      & 27604  & 119096\\\\\n",
       "\t3 & 795   & 1     & 0.3   & 1     & 0     & 27610 & 71666\\\\\n",
       "\t4 & 1152   & 1      & 0.68   & 2      & 0      & 27616  & 131103\\\\\n",
       "\t5 & 1404    & 1       & 39.38   & 2       & 0       & 27519   & 4904102\\\\\n",
       "\t6 & 1829   & 1.5    & 0.25   & 3      & 1      & 27607  & 496425\\\\\n",
       "\\end{tabular}\n"
      ],
      "text/plain": [
       "  SqFt Story Acres Baths Fireplaces   Zip   Value\n",
       "1 2102   1.0  0.77     2          1 27603  203200\n",
       "2 1740   1.5  0.06     3          1 27604  119096\n",
       "3  795   1.0  0.30     1          0 27610   71666\n",
       "4 1152   1.0  0.68     2          0 27616  131103\n",
       "5 1404   1.0 39.38     2          0 27519 4904102\n",
       "6 1829   1.5  0.25     3          1 27607  496425"
      ]
     },
     "metadata": {},
     "output_type": "display_data"
    },
    {
     "data": {
      "text/html": [
       "<table>\n",
       "<thead><tr><th></th><th scope=col>SqFt</th><th scope=col>Story</th><th scope=col>Acres</th><th scope=col>Baths</th><th scope=col>Fireplaces</th><th scope=col>ZIP</th></tr></thead>\n",
       "<tbody>\n",
       "\t<tr><th scope=row>1</th><td> 1752.00</td><td>    1.00</td><td>    0.29</td><td>    1.50</td><td>    1.00</td><td>27604.00</td></tr>\n",
       "\t<tr><th scope=row>2</th><td> 2678.00</td><td>    1.75</td><td>    0.17</td><td>    3.00</td><td>    1.00</td><td>27613.00</td></tr>\n",
       "\t<tr><th scope=row>3</th><td> 1024.00</td><td>    2.00</td><td>    0.03</td><td>    1.50</td><td>    0.00</td><td>27616.00</td></tr>\n",
       "\t<tr><th scope=row>4</th><td> 2340.00</td><td>    1.00</td><td>    0.56</td><td>    2.50</td><td>    1.00</td><td>27610.00</td></tr>\n",
       "\t<tr><th scope=row>5</th><td> 1104.00</td><td>    1.00</td><td>    0.51</td><td>    2.00</td><td>    1.00</td><td>27545.00</td></tr>\n",
       "\t<tr><th scope=row>6</th><td>  900.00</td><td>    1.00</td><td>    0.25</td><td>    1.00</td><td>    0.00</td><td>27607.00</td></tr>\n",
       "</tbody>\n",
       "</table>\n"
      ],
      "text/latex": [
       "\\begin{tabular}{r|llllll}\n",
       "  & SqFt & Story & Acres & Baths & Fireplaces & ZIP\\\\\n",
       "\\hline\n",
       "\t1 &  1752.00 &     1.00 &     0.29 &     1.50 &     1.00 & 27604.00\\\\\n",
       "\t2 &  2678.00 &     1.75 &     0.17 &     3.00 &     1.00 & 27613.00\\\\\n",
       "\t3 &  1024.00 &     2.00 &     0.03 &     1.50 &     0.00 & 27616.00\\\\\n",
       "\t4 &  2340.00 &     1.00 &     0.56 &     2.50 &     1.00 & 27610.00\\\\\n",
       "\t5 &  1104.00 &     1.00 &     0.51 &     2.00 &     1.00 & 27545.00\\\\\n",
       "\t6 &   900.00 &     1.00 &     0.25 &     1.00 &     0.00 & 27607.00\\\\\n",
       "\\end{tabular}\n"
      ],
      "text/plain": [
       "  SqFt Story Acres Baths Fireplaces   ZIP\n",
       "1 1752  1.00  0.29   1.5          1 27604\n",
       "2 2678  1.75  0.17   3.0          1 27613\n",
       "3 1024  2.00  0.03   1.5          0 27616\n",
       "4 2340  1.00  0.56   2.5          1 27610\n",
       "5 1104  1.00  0.51   2.0          1 27545\n",
       "6  900  1.00  0.25   1.0          0 27607"
      ]
     },
     "metadata": {},
     "output_type": "display_data"
    }
   ],
   "source": [
    "# impute the NA value in the bath by its average\n",
    "data$Baths[is.na(data$Baths)] = round(mean(data$Baths, \n",
    "                                             na.rm=T),0)\n",
    "data = data[,-1] #exclude the ID\n",
    "testInput = testInput[,-1] #exclude the ID\n",
    "data$Zip = as.factor(data$Zip)\n",
    "head(data)\n",
    "head(testInput)"
   ]
  },
  {
   "cell_type": "code",
   "execution_count": 9,
   "metadata": {
    "collapsed": false
   },
   "outputs": [],
   "source": [
    "#Further split data into a training set and a test set\n",
    "set.seed(1)\n",
    "trainIdx = sample(1:nrow(data), round(nrow(data)*3/4, 0))\n",
    "testIdx = (-trainIdx)\n",
    "\n",
    "x.train = model.matrix(Value~., data=data[trainIdx,])[,-1]\n",
    "x.test = model.matrix(Value~., data=data[testIdx,])[,-1]\n",
    "y.train = data[trainIdx,]$Value\n",
    "y.test = data[testIdx,]$Value"
   ]
  },
  {
   "cell_type": "code",
   "execution_count": 10,
   "metadata": {
    "collapsed": false
   },
   "outputs": [
    {
     "data": {
      "text/html": [
       "<table>\n",
       "<thead><tr><th></th><th scope=col>YearBuilt</th><th scope=col>SqFt</th><th scope=col>Story</th><th scope=col>Acres</th><th scope=col>Baths</th><th scope=col>Fireplaces</th><th scope=col>Zip27511</th><th scope=col>Zip27513</th><th scope=col>Zip27518</th><th scope=col>Zip27519</th><th scope=col>⋯</th><th scope=col>Zip27607</th><th scope=col>Zip27608</th><th scope=col>Zip27609</th><th scope=col>Zip27610</th><th scope=col>Zip27612</th><th scope=col>Zip27613</th><th scope=col>Zip27614</th><th scope=col>Zip27615</th><th scope=col>Zip27616</th><th scope=col>Zip27617</th></tr></thead>\n",
       "<tbody>\n",
       "\t<tr><th scope=row>24</th><td>1961</td><td>1620</td><td>1   </td><td>0.61</td><td>2   </td><td>1   </td><td>0   </td><td>0   </td><td>0   </td><td>0   </td><td>⋯   </td><td>0   </td><td>0   </td><td>0   </td><td>0   </td><td>0   </td><td>0   </td><td>0   </td><td>0   </td><td>0   </td><td>0   </td></tr>\n",
       "\t<tr><th scope=row>34</th><td>1971</td><td>1168</td><td>1   </td><td>0.2 </td><td>1.5 </td><td>0   </td><td>0   </td><td>0   </td><td>0   </td><td>0   </td><td>⋯   </td><td>0   </td><td>0   </td><td>0   </td><td>0   </td><td>0   </td><td>0   </td><td>0   </td><td>0   </td><td>0   </td><td>0   </td></tr>\n",
       "\t<tr><th scope=row>51</th><td>1987</td><td>1080</td><td>1   </td><td>0.3 </td><td>2   </td><td>1   </td><td>1   </td><td>0   </td><td>0   </td><td>0   </td><td>⋯   </td><td>0   </td><td>0   </td><td>0   </td><td>0   </td><td>0   </td><td>0   </td><td>0   </td><td>0   </td><td>0   </td><td>0   </td></tr>\n",
       "\t<tr><th scope=row>80</th><td>1981</td><td>1764</td><td>1   </td><td>0.66</td><td>2   </td><td>1   </td><td>0   </td><td>0   </td><td>0   </td><td>0   </td><td>⋯   </td><td>0   </td><td>0   </td><td>0   </td><td>0   </td><td>1   </td><td>0   </td><td>0   </td><td>0   </td><td>0   </td><td>0   </td></tr>\n",
       "\t<tr><th scope=row>18</th><td>1959</td><td>1911</td><td>1   </td><td>0.28</td><td>3   </td><td>1   </td><td>0   </td><td>0   </td><td>0   </td><td>0   </td><td>⋯   </td><td>1   </td><td>0   </td><td>0   </td><td>0   </td><td>0   </td><td>0   </td><td>0   </td><td>0   </td><td>0   </td><td>0   </td></tr>\n",
       "\t<tr><th scope=row>77</th><td>1960</td><td>1740</td><td>1   </td><td>0.47</td><td>2   </td><td>1   </td><td>0   </td><td>0   </td><td>0   </td><td>0   </td><td>⋯   </td><td>0   </td><td>0   </td><td>0   </td><td>0   </td><td>0   </td><td>0   </td><td>0   </td><td>0   </td><td>0   </td><td>0   </td></tr>\n",
       "</tbody>\n",
       "</table>\n"
      ],
      "text/latex": [
       "\\begin{tabular}{r|lllllllllllllllllllllllllllllll}\n",
       "  & YearBuilt & SqFt & Story & Acres & Baths & Fireplaces & Zip27511 & Zip27513 & Zip27518 & Zip27519 & ⋯ & Zip27607 & Zip27608 & Zip27609 & Zip27610 & Zip27612 & Zip27613 & Zip27614 & Zip27615 & Zip27616 & Zip27617\\\\\n",
       "\\hline\n",
       "\t24 & 1961 & 1620 & 1    & 0.61 & 2    & 1    & 0    & 0    & 0    & 0    & ⋯    & 0    & 0    & 0    & 0    & 0    & 0    & 0    & 0    & 0    & 0   \\\\\n",
       "\t34 & 1971 & 1168 & 1    & 0.2  & 1.5  & 0    & 0    & 0    & 0    & 0    & ⋯    & 0    & 0    & 0    & 0    & 0    & 0    & 0    & 0    & 0    & 0   \\\\\n",
       "\t51 & 1987 & 1080 & 1    & 0.3  & 2    & 1    & 1    & 0    & 0    & 0    & ⋯    & 0    & 0    & 0    & 0    & 0    & 0    & 0    & 0    & 0    & 0   \\\\\n",
       "\t80 & 1981 & 1764 & 1    & 0.66 & 2    & 1    & 0    & 0    & 0    & 0    & ⋯    & 0    & 0    & 0    & 0    & 1    & 0    & 0    & 0    & 0    & 0   \\\\\n",
       "\t18 & 1959 & 1911 & 1    & 0.28 & 3    & 1    & 0    & 0    & 0    & 0    & ⋯    & 1    & 0    & 0    & 0    & 0    & 0    & 0    & 0    & 0    & 0   \\\\\n",
       "\t77 & 1960 & 1740 & 1    & 0.47 & 2    & 1    & 0    & 0    & 0    & 0    & ⋯    & 0    & 0    & 0    & 0    & 0    & 0    & 0    & 0    & 0    & 0   \\\\\n",
       "\\end{tabular}\n"
      ],
      "text/markdown": [
       "1. 1961\n",
       "2. 1971\n",
       "3. 1987\n",
       "4. 1981\n",
       "5. 1959\n",
       "6. 1960\n",
       "7. 1620\n",
       "8. 1168\n",
       "9. 1080\n",
       "10. 1764\n",
       "11. 1911\n",
       "12. 1740\n",
       "13. 1\n",
       "14. 1\n",
       "15. 1\n",
       "16. 1\n",
       "17. 1\n",
       "18. 1\n",
       "19. 0.61\n",
       "20. 0.2\n",
       "21. 0.3\n",
       "22. 0.66\n",
       "23. 0.28\n",
       "24. 0.47\n",
       "25. 2\n",
       "26. 1.5\n",
       "27. 2\n",
       "28. 2\n",
       "29. 3\n",
       "30. 2\n",
       "31. 1\n",
       "32. 0\n",
       "33. 1\n",
       "34. 1\n",
       "35. 1\n",
       "36. 1\n",
       "37. 0\n",
       "38. 0\n",
       "39. 1\n",
       "40. 0\n",
       "41. 0\n",
       "42. 0\n",
       "43. 0\n",
       "44. 0\n",
       "45. 0\n",
       "46. 0\n",
       "47. 0\n",
       "48. 0\n",
       "49. 0\n",
       "50. 0\n",
       "51. 0\n",
       "52. 0\n",
       "53. 0\n",
       "54. 0\n",
       "55. 0\n",
       "56. 0\n",
       "57. 0\n",
       "58. 0\n",
       "59. 0\n",
       "60. 0\n",
       "61. 0\n",
       "62. 0\n",
       "63. 0\n",
       "64. 0\n",
       "65. 0\n",
       "66. 0\n",
       "67. 1\n",
       "68. 0\n",
       "69. 0\n",
       "70. 0\n",
       "71. 0\n",
       "72. 1\n",
       "73. 0\n",
       "74. 0\n",
       "75. 0\n",
       "76. 0\n",
       "77. 0\n",
       "78. 0\n",
       "79. 0\n",
       "80. 0\n",
       "81. 0\n",
       "82. 0\n",
       "83. 0\n",
       "84. 0\n",
       "85. 0\n",
       "86. 0\n",
       "87. 0\n",
       "88. 0\n",
       "89. 0\n",
       "90. 0\n",
       "91. 0\n",
       "92. 0\n",
       "93. 0\n",
       "94. 0\n",
       "95. 0\n",
       "96. 0\n",
       "97. 0\n",
       "98. 0\n",
       "99. 0\n",
       "100. 0\n",
       "101. 0\n",
       "102. 0\n",
       "103. 0\n",
       "104. 0\n",
       "105. 0\n",
       "106. 0\n",
       "107. 0\n",
       "108. 0\n",
       "109. 0\n",
       "110. 1\n",
       "111. 0\n",
       "112. 0\n",
       "113. 0\n",
       "114. 0\n",
       "115. 0\n",
       "116. 0\n",
       "117. 0\n",
       "118. 0\n",
       "119. 0\n",
       "120. 0\n",
       "121. 0\n",
       "122. 0\n",
       "123. 0\n",
       "124. 0\n",
       "125. 0\n",
       "126. 0\n",
       "127. 0\n",
       "128. 0\n",
       "129. 0\n",
       "130. 0\n",
       "131. 1\n",
       "132. 0\n",
       "133. 0\n",
       "134. 0\n",
       "135. 0\n",
       "136. 0\n",
       "137. 0\n",
       "138. 0\n",
       "139. 0\n",
       "140. 0\n",
       "141. 0\n",
       "142. 0\n",
       "143. 0\n",
       "144. 0\n",
       "145. 0\n",
       "146. 0\n",
       "147. 0\n",
       "148. 0\n",
       "149. 0\n",
       "150. 0\n",
       "151. 0\n",
       "152. 0\n",
       "153. 0\n",
       "154. 1\n",
       "155. 0\n",
       "156. 0\n",
       "157. 0\n",
       "158. 0\n",
       "159. 0\n",
       "160. 0\n",
       "161. 0\n",
       "162. 0\n",
       "163. 0\n",
       "164. 0\n",
       "165. 0\n",
       "166. 0\n",
       "167. 0\n",
       "168. 0\n",
       "169. 0\n",
       "170. 0\n",
       "171. 0\n",
       "172. 0\n",
       "173. 0\n",
       "174. 0\n",
       "175. 0\n",
       "176. 0\n",
       "177. 0\n",
       "178. 0\n",
       "179. 0\n",
       "180. 0\n",
       "181. 0\n",
       "182. 0\n",
       "183. 0\n",
       "184. 0\n",
       "185. 0\n",
       "186. 0\n",
       "\n",
       "\n"
      ],
      "text/plain": [
       "   YearBuilt SqFt   Story Acres  Baths Fireplaces Zip27511 Zip27513 Zip27518\n",
       "24 \"1961\"    \"1620\" \"1\"   \"0.61\" \"2\"   \"1\"        \"0\"      \"0\"      \"0\"     \n",
       "34 \"1971\"    \"1168\" \"1\"   \"0.2\"  \"1.5\" \"0\"        \"0\"      \"0\"      \"0\"     \n",
       "51 \"1987\"    \"1080\" \"1\"   \"0.3\"  \"2\"   \"1\"        \"1\"      \"0\"      \"0\"     \n",
       "80 \"1981\"    \"1764\" \"1\"   \"0.66\" \"2\"   \"1\"        \"0\"      \"0\"      \"0\"     \n",
       "18 \"1959\"    \"1911\" \"1\"   \"0.28\" \"3\"   \"1\"        \"0\"      \"0\"      \"0\"     \n",
       "77 \"1960\"    \"1740\" \"1\"   \"0.47\" \"2\"   \"1\"        \"0\"      \"0\"      \"0\"     \n",
       "   Zip27519 ⋯   Zip27607 Zip27608 Zip27609 Zip27610 Zip27612 Zip27613 Zip27614\n",
       "24 \"0\"      \"⋯\" \"0\"      \"0\"      \"0\"      \"0\"      \"0\"      \"0\"      \"0\"     \n",
       "34 \"0\"      \"⋯\" \"0\"      \"0\"      \"0\"      \"0\"      \"0\"      \"0\"      \"0\"     \n",
       "51 \"0\"      \"⋯\" \"0\"      \"0\"      \"0\"      \"0\"      \"0\"      \"0\"      \"0\"     \n",
       "80 \"0\"      \"⋯\" \"0\"      \"0\"      \"0\"      \"0\"      \"1\"      \"0\"      \"0\"     \n",
       "18 \"0\"      \"⋯\" \"1\"      \"0\"      \"0\"      \"0\"      \"0\"      \"0\"      \"0\"     \n",
       "77 \"0\"      \"⋯\" \"0\"      \"0\"      \"0\"      \"0\"      \"0\"      \"0\"      \"0\"     \n",
       "   Zip27615 Zip27616 Zip27617\n",
       "24 \"0\"      \"0\"      \"0\"     \n",
       "34 \"0\"      \"0\"      \"0\"     \n",
       "51 \"0\"      \"0\"      \"0\"     \n",
       "80 \"0\"      \"0\"      \"0\"     \n",
       "18 \"0\"      \"0\"      \"0\"     \n",
       "77 \"0\"      \"0\"      \"0\"     "
      ]
     },
     "metadata": {},
     "output_type": "display_data"
    },
    {
     "data": {
      "text/html": [
       "<ol class=list-inline>\n",
       "\t<li>128105</li>\n",
       "\t<li>127708</li>\n",
       "\t<li>159332</li>\n",
       "\t<li>320419</li>\n",
       "\t<li>318360</li>\n",
       "\t<li>92749</li>\n",
       "</ol>\n"
      ],
      "text/latex": [
       "\\begin{enumerate*}\n",
       "\\item 128105\n",
       "\\item 127708\n",
       "\\item 159332\n",
       "\\item 320419\n",
       "\\item 318360\n",
       "\\item 92749\n",
       "\\end{enumerate*}\n"
      ],
      "text/markdown": [
       "1. 128105\n",
       "2. 127708\n",
       "3. 159332\n",
       "4. 320419\n",
       "5. 318360\n",
       "6. 92749\n",
       "\n",
       "\n"
      ],
      "text/plain": [
       "[1] 128105 127708 159332 320419 318360  92749"
      ]
     },
     "metadata": {},
     "output_type": "display_data"
    }
   ],
   "source": [
    "head(x.train)\n",
    "head(y.train)"
   ]
  },
  {
   "cell_type": "code",
   "execution_count": 28,
   "metadata": {
    "collapsed": false
   },
   "outputs": [
    {
     "name": "stderr",
     "output_type": "stream",
     "text": [
      "Warning message in predict.lm(lm.fit, data.frame(x.test)):\n",
      "“prediction from a rank-deficient fit may be misleading”"
     ]
    },
    {
     "data": {
      "text/html": [
       "<table>\n",
       "<thead><tr><th></th><th scope=col>ID</th><th scope=col>YearBuilt</th><th scope=col>SqFt</th><th scope=col>Story</th><th scope=col>Acres</th><th scope=col>Baths</th><th scope=col>Fireplaces</th><th scope=col>ZIP</th></tr></thead>\n",
       "<tbody>\n",
       "\t<tr><th scope=row>1</th><td>    1.00</td><td> 1967.00</td><td> 1752.00</td><td>    1.00</td><td>    0.29</td><td>    1.50</td><td>    1.00</td><td>27604.00</td></tr>\n",
       "\t<tr><th scope=row>2</th><td>    2.00</td><td> 1987.00</td><td> 2678.00</td><td>    1.75</td><td>    0.17</td><td>    3.00</td><td>    1.00</td><td>27613.00</td></tr>\n",
       "\t<tr><th scope=row>3</th><td>    3.00</td><td> 1986.00</td><td> 1024.00</td><td>    2.00</td><td>    0.03</td><td>    1.50</td><td>    0.00</td><td>27616.00</td></tr>\n",
       "\t<tr><th scope=row>4</th><td>    4.00</td><td> 1963.00</td><td> 2340.00</td><td>    1.00</td><td>    0.56</td><td>    2.50</td><td>    1.00</td><td>27610.00</td></tr>\n",
       "\t<tr><th scope=row>5</th><td>    5.00</td><td> 1995.00</td><td> 1104.00</td><td>    1.00</td><td>    0.51</td><td>    2.00</td><td>    1.00</td><td>27545.00</td></tr>\n",
       "\t<tr><th scope=row>6</th><td>    6.00</td><td> 1947.00</td><td>  900.00</td><td>    1.00</td><td>    0.25</td><td>    1.00</td><td>    0.00</td><td>27607.00</td></tr>\n",
       "\t<tr><th scope=row>7</th><td>    7.00</td><td> 1990.00</td><td> 1890.00</td><td>    2.00</td><td>    0.18</td><td>    2.50</td><td>    1.00</td><td>27513.00</td></tr>\n",
       "\t<tr><th scope=row>8</th><td>    8.00</td><td> 1985.00</td><td> 1056.00</td><td>    1.00</td><td>    0.18</td><td>    2.00</td><td>    0.00</td><td>27529.00</td></tr>\n",
       "\t<tr><th scope=row>9</th><td>    9.00</td><td> 1984.00</td><td> 1550.00</td><td>    2.00</td><td>    0.04</td><td>    2.50</td><td>    1.00</td><td>27612.00</td></tr>\n",
       "\t<tr><th scope=row>10</th><td>   10.00</td><td> 1967.00</td><td> 1420.00</td><td>    1.00</td><td>    0.26</td><td>    2.00</td><td>    1.00</td><td>27610.00</td></tr>\n",
       "</tbody>\n",
       "</table>\n"
      ],
      "text/latex": [
       "\\begin{tabular}{r|llllllll}\n",
       "  & ID & YearBuilt & SqFt & Story & Acres & Baths & Fireplaces & ZIP\\\\\n",
       "\\hline\n",
       "\t1 &     1.00 &  1967.00 &  1752.00 &     1.00 &     0.29 &     1.50 &     1.00 & 27604.00\\\\\n",
       "\t2 &     2.00 &  1987.00 &  2678.00 &     1.75 &     0.17 &     3.00 &     1.00 & 27613.00\\\\\n",
       "\t3 &     3.00 &  1986.00 &  1024.00 &     2.00 &     0.03 &     1.50 &     0.00 & 27616.00\\\\\n",
       "\t4 &     4.00 &  1963.00 &  2340.00 &     1.00 &     0.56 &     2.50 &     1.00 & 27610.00\\\\\n",
       "\t5 &     5.00 &  1995.00 &  1104.00 &     1.00 &     0.51 &     2.00 &     1.00 & 27545.00\\\\\n",
       "\t6 &     6.00 &  1947.00 &   900.00 &     1.00 &     0.25 &     1.00 &     0.00 & 27607.00\\\\\n",
       "\t7 &     7.00 &  1990.00 &  1890.00 &     2.00 &     0.18 &     2.50 &     1.00 & 27513.00\\\\\n",
       "\t8 &     8.00 &  1985.00 &  1056.00 &     1.00 &     0.18 &     2.00 &     0.00 & 27529.00\\\\\n",
       "\t9 &     9.00 &  1984.00 &  1550.00 &     2.00 &     0.04 &     2.50 &     1.00 & 27612.00\\\\\n",
       "\t10 &    10.00 &  1967.00 &  1420.00 &     1.00 &     0.26 &     2.00 &     1.00 & 27610.00\\\\\n",
       "\\end{tabular}\n"
      ],
      "text/markdown": [
       "1. 1\n",
       "2. 2\n",
       "3. 3\n",
       "4. 4\n",
       "5. 5\n",
       "6. 6\n",
       "7. 7\n",
       "8. 8\n",
       "9. 9\n",
       "10. 10\n",
       "11. 1967\n",
       "12. 1987\n",
       "13. 1986\n",
       "14. 1963\n",
       "15. 1995\n",
       "16. 1947\n",
       "17. 1990\n",
       "18. 1985\n",
       "19. 1984\n",
       "20. 1967\n",
       "21. 1752\n",
       "22. 2678\n",
       "23. 1024\n",
       "24. 2340\n",
       "25. 1104\n",
       "26. 900\n",
       "27. 1890\n",
       "28. 1056\n",
       "29. 1550\n",
       "30. 1420\n",
       "31. 1\n",
       "32. 1.75\n",
       "33. 2\n",
       "34. 1\n",
       "35. 1\n",
       "36. 1\n",
       "37. 2\n",
       "38. 1\n",
       "39. 2\n",
       "40. 1\n",
       "41. 0.29\n",
       "42. 0.17\n",
       "43. 0.03\n",
       "44. 0.56\n",
       "45. 0.51\n",
       "46. 0.25\n",
       "47. 0.18\n",
       "48. 0.18\n",
       "49. 0.04\n",
       "50. 0.26\n",
       "51. 1.5\n",
       "52. 3\n",
       "53. 1.5\n",
       "54. 2.5\n",
       "55. 2\n",
       "56. 1\n",
       "57. 2.5\n",
       "58. 2\n",
       "59. 2.5\n",
       "60. 2\n",
       "61. 1\n",
       "62. 1\n",
       "63. 0\n",
       "64. 1\n",
       "65. 1\n",
       "66. 0\n",
       "67. 1\n",
       "68. 0\n",
       "69. 1\n",
       "70. 1\n",
       "71. 27604\n",
       "72. 27613\n",
       "73. 27616\n",
       "74. 27610\n",
       "75. 27545\n",
       "76. 27607\n",
       "77. 27513\n",
       "78. 27529\n",
       "79. 27612\n",
       "80. 27610\n",
       "\n",
       "\n"
      ],
      "text/plain": [
       "   ID YearBuilt SqFt Story Acres Baths Fireplaces   ZIP\n",
       "1   1      1967 1752  1.00  0.29   1.5          1 27604\n",
       "2   2      1987 2678  1.75  0.17   3.0          1 27613\n",
       "3   3      1986 1024  2.00  0.03   1.5          0 27616\n",
       "4   4      1963 2340  1.00  0.56   2.5          1 27610\n",
       "5   5      1995 1104  1.00  0.51   2.0          1 27545\n",
       "6   6      1947  900  1.00  0.25   1.0          0 27607\n",
       "7   7      1990 1890  2.00  0.18   2.5          1 27513\n",
       "8   8      1985 1056  1.00  0.18   2.0          0 27529\n",
       "9   9      1984 1550  2.00  0.04   2.5          1 27612\n",
       "10 10      1967 1420  1.00  0.26   2.0          1 27610"
      ]
     },
     "metadata": {},
     "output_type": "display_data"
    }
   ],
   "source": [
    "#Multiple Linear Regression\n",
    "#Fit the model on the training set\n",
    "lm.fit = lm(y.train~., data = data.frame(x.train))\n",
    "#summary(lm.fit)\n",
    "#Predict the response on test set\n",
    "lm.pred = predict(lm.fit, data.frame(x.test))\n",
    "#Compute the test MSE\n",
    "test.MSE = mean((lm.pred - y.test)^2)\n",
    "#test.MSE\n",
    "#Predict the property value using the testInput data\n",
    "testInput = model.matrix(~., data = data.frame(testInput))[,-c(1,2,3)]\n",
    "#lm.prediction = predict(lm.fit, data.frame(testInput))\n",
    "testInput"
   ]
  },
  {
   "cell_type": "code",
   "execution_count": 106,
   "metadata": {
    "collapsed": false
   },
   "outputs": [
    {
     "data": {
      "text/html": [
       "<dl class=dl-horizontal>\n",
       "\t<dt>(Intercept)</dt>\n",
       "\t\t<dd>-11634705.869861</dd>\n",
       "\t<dt>YearBuilt</dt>\n",
       "\t\t<dd>-1723.80750199467</dd>\n",
       "\t<dt>SqFt</dt>\n",
       "\t\t<dd>169.848393451094</dd>\n",
       "\t<dt>Acres</dt>\n",
       "\t\t<dd>123098.146289031</dd>\n",
       "\t<dt>Zip</dt>\n",
       "\t\t<dd>540.654804401226</dd>\n",
       "</dl>\n"
      ],
      "text/latex": [
       "\\begin{description*}\n",
       "\\item[(Intercept)] -11634705.869861\n",
       "\\item[YearBuilt] -1723.80750199467\n",
       "\\item[SqFt] 169.848393451094\n",
       "\\item[Acres] 123098.146289031\n",
       "\\item[Zip] 540.654804401226\n",
       "\\end{description*}\n"
      ],
      "text/markdown": [
       "(Intercept)\n",
       ":   -11634705.869861YearBuilt\n",
       ":   -1723.80750199467SqFt\n",
       ":   169.848393451094Acres\n",
       ":   123098.146289031Zip\n",
       ":   540.654804401226\n",
       "\n"
      ],
      "text/plain": [
       "  (Intercept)     YearBuilt          SqFt         Acres           Zip \n",
       "-1.163471e+07 -1.723808e+03  1.698484e+02  1.230981e+05  5.406548e+02 "
      ]
     },
     "metadata": {},
     "output_type": "display_data"
    },
    {
     "data": {
      "text/html": [
       "<dl class=dl-horizontal>\n",
       "\t<dt>(Intercept)</dt>\n",
       "\t\t<dd>-11634705.869861</dd>\n",
       "\t<dt>YearBuilt</dt>\n",
       "\t\t<dd>-1723.80750199467</dd>\n",
       "\t<dt>SqFt</dt>\n",
       "\t\t<dd>169.848393451094</dd>\n",
       "\t<dt>Acres</dt>\n",
       "\t\t<dd>123098.146289031</dd>\n",
       "\t<dt>Zip</dt>\n",
       "\t\t<dd>540.654804401226</dd>\n",
       "</dl>\n"
      ],
      "text/latex": [
       "\\begin{description*}\n",
       "\\item[(Intercept)] -11634705.869861\n",
       "\\item[YearBuilt] -1723.80750199467\n",
       "\\item[SqFt] 169.848393451094\n",
       "\\item[Acres] 123098.146289031\n",
       "\\item[Zip] 540.654804401226\n",
       "\\end{description*}\n"
      ],
      "text/markdown": [
       "(Intercept)\n",
       ":   -11634705.869861YearBuilt\n",
       ":   -1723.80750199467SqFt\n",
       ":   169.848393451094Acres\n",
       ":   123098.146289031Zip\n",
       ":   540.654804401226\n",
       "\n"
      ],
      "text/plain": [
       "  (Intercept)     YearBuilt          SqFt         Acres           Zip \n",
       "-1.163471e+07 -1.723808e+03  1.698484e+02  1.230981e+05  5.406548e+02 "
      ]
     },
     "metadata": {},
     "output_type": "display_data"
    },
    {
     "data": {
      "text/html": [
       "<dl class=dl-horizontal>\n",
       "\t<dt>(Intercept)</dt>\n",
       "\t\t<dd>-11634705.869861</dd>\n",
       "\t<dt>YearBuilt</dt>\n",
       "\t\t<dd>-1723.80750199467</dd>\n",
       "\t<dt>SqFt</dt>\n",
       "\t\t<dd>169.848393451094</dd>\n",
       "\t<dt>Acres</dt>\n",
       "\t\t<dd>123098.146289031</dd>\n",
       "\t<dt>Zip</dt>\n",
       "\t\t<dd>540.654804401226</dd>\n",
       "</dl>\n"
      ],
      "text/latex": [
       "\\begin{description*}\n",
       "\\item[(Intercept)] -11634705.869861\n",
       "\\item[YearBuilt] -1723.80750199467\n",
       "\\item[SqFt] 169.848393451094\n",
       "\\item[Acres] 123098.146289031\n",
       "\\item[Zip] 540.654804401226\n",
       "\\end{description*}\n"
      ],
      "text/markdown": [
       "(Intercept)\n",
       ":   -11634705.869861YearBuilt\n",
       ":   -1723.80750199467SqFt\n",
       ":   169.848393451094Acres\n",
       ":   123098.146289031Zip\n",
       ":   540.654804401226\n",
       "\n"
      ],
      "text/plain": [
       "  (Intercept)     YearBuilt          SqFt         Acres           Zip \n",
       "-1.163471e+07 -1.723808e+03  1.698484e+02  1.230981e+05  5.406548e+02 "
      ]
     },
     "metadata": {},
     "output_type": "display_data"
    },
    {
     "data": {
      "text/html": [
       "<dl class=dl-horizontal>\n",
       "\t<dt>1</dt>\n",
       "\t\t<dd>230809.350316836</dd>\n",
       "\t<dt>2</dt>\n",
       "\t\t<dd>341759.669410646</dd>\n",
       "\t<dt>3</dt>\n",
       "\t\t<dd>47664.2783033084</dd>\n",
       "\t<dt>4</dt>\n",
       "\t\t<dd>373930.54722728</dd>\n",
       "\t<dt>5</dt>\n",
       "\t\t<dd>67449.508556664</dd>\n",
       "\t<dt>6</dt>\n",
       "\t\t<dd>118907.875613065</dd>\n",
       "\t<dt>7</dt>\n",
       "\t\t<dd>152363.762002213</dd>\n",
       "\t<dt>8</dt>\n",
       "\t\t<dd>28310.4307021443</dd>\n",
       "\t<dt>9</dt>\n",
       "\t\t<dd>139514.650940914</dd>\n",
       "\t<dt>10</dt>\n",
       "\t\t<dd>173977.826665211</dd>\n",
       "</dl>\n"
      ],
      "text/latex": [
       "\\begin{description*}\n",
       "\\item[1] 230809.350316836\n",
       "\\item[2] 341759.669410646\n",
       "\\item[3] 47664.2783033084\n",
       "\\item[4] 373930.54722728\n",
       "\\item[5] 67449.508556664\n",
       "\\item[6] 118907.875613065\n",
       "\\item[7] 152363.762002213\n",
       "\\item[8] 28310.4307021443\n",
       "\\item[9] 139514.650940914\n",
       "\\item[10] 173977.826665211\n",
       "\\end{description*}\n"
      ],
      "text/markdown": [
       "1\n",
       ":   230809.3503168362\n",
       ":   341759.6694106463\n",
       ":   47664.27830330844\n",
       ":   373930.547227285\n",
       ":   67449.5085566646\n",
       ":   118907.8756130657\n",
       ":   152363.7620022138\n",
       ":   28310.43070214439\n",
       ":   139514.65094091410\n",
       ":   173977.826665211\n",
       "\n"
      ],
      "text/plain": [
       "        1         2         3         4         5         6         7         8 \n",
       "230809.35 341759.67  47664.28 373930.55  67449.51 118907.88 152363.76  28310.43 \n",
       "        9        10 \n",
       "139514.65 173977.83 "
      ]
     },
     "metadata": {},
     "output_type": "display_data"
    }
   ],
   "source": [
    "#Perform best subset selection on the training data\n",
    "library(leaps)\n",
    "Value = train$Value\n",
    "regfit = regsubsets(Value~., data = train, nvmax = ncol(train)-1)\n",
    "regfit.summary = summary(best.fit)\n",
    "#Find the fitted model with the lowest Cp, lowest BIC and the highest adjusted R-squared value\n",
    "i.cp = which.min(best.summary$cp)\n",
    "i.bic = which.min(best.summary$bic)\n",
    "i.adjr2 = which.max(best.summary$adjr2)\n",
    "coef(regfit, id=i.cp)\n",
    "coef(regfit, id=i.cp)\n",
    "coef(regfit, id=i.cp)\n",
    "#We use YearBuilt, SqFt, Acres, and Zip to predict the property values on the test set\n",
    "lm.fit = lm(Value~YearBuilt+SqFt+Acres+Zip, data = train)\n",
    "lm.pred = predict(lm.fit, test)\n",
    "lm.pred"
   ]
  },
  {
   "cell_type": "code",
   "execution_count": null,
   "metadata": {
    "collapsed": true
   },
   "outputs": [],
   "source": []
  }
 ],
 "metadata": {
  "anaconda-cloud": {},
  "kernelspec": {
   "display_name": "R",
   "language": "R",
   "name": "ir"
  },
  "language_info": {
   "codemirror_mode": "r",
   "file_extension": ".r",
   "mimetype": "text/x-r-source",
   "name": "R",
   "pygments_lexer": "r",
   "version": "3.3.1"
  }
 },
 "nbformat": 4,
 "nbformat_minor": 1
}
